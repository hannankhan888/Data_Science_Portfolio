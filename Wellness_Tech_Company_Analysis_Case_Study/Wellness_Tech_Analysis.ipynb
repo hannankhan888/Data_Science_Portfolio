{
 "cells": [
  {
   "cell_type": "markdown",
   "id": "09da6e0b",
   "metadata": {},
   "source": [
    "# Wellness Tech Analysis\n",
    "> Author: Hannan Khan  \n",
    "> Last updated: 02/20/2022"
   ]
  },
  {
   "cell_type": "markdown",
   "id": "23cb0092",
   "metadata": {},
   "source": [
    "## Current Status"
   ]
  },
  {
   "cell_type": "markdown",
   "id": "9a61b503",
   "metadata": {},
   "source": [
    "## Business Task"
   ]
  },
  {
   "cell_type": "markdown",
   "id": "a53c57d3",
   "metadata": {},
   "source": [
    "## Data Sources"
   ]
  },
  {
   "cell_type": "markdown",
   "id": "589397da",
   "metadata": {},
   "source": [
    "## Data Cleaning\n",
    "  \n",
    "  \n",
    "The database was created and loaded with the csv files in [this](https://github.com/hannankhan888/Data_Science_Portfolio/blob/main/Wellness_Tech_Company_Analysis_Case_Study/Database_Creator_Loader.ipynb) Jupyter Notebook."
   ]
  },
  {
   "cell_type": "markdown",
   "id": "68d42261",
   "metadata": {},
   "source": [
    "### Loading Libraries"
   ]
  },
  {
   "cell_type": "code",
   "execution_count": 1,
   "id": "d673fe0c",
   "metadata": {
    "ExecuteTime": {
     "end_time": "2022-02-20T10:09:03.970529Z",
     "start_time": "2022-02-20T10:09:03.956062Z"
    }
   },
   "outputs": [],
   "source": [
    "import sqlite3 as sql\n",
    "from pprint import pprint\n",
    "import os\n",
    "import re"
   ]
  },
  {
   "cell_type": "markdown",
   "id": "0eb39528",
   "metadata": {},
   "source": [
    "### Create Database Objects"
   ]
  },
  {
   "cell_type": "code",
   "execution_count": 2,
   "id": "318decff",
   "metadata": {
    "ExecuteTime": {
     "end_time": "2022-02-20T10:09:04.034357Z",
     "start_time": "2022-02-20T10:09:03.971526Z"
    }
   },
   "outputs": [
    {
     "name": "stdout",
     "output_type": "stream",
     "text": [
      "Tables:\n",
      "[('dailyActivity_merged',),\n",
      " ('dailyCalories_merged',),\n",
      " ('dailyIntensities_merged',),\n",
      " ('dailySteps_merged',),\n",
      " ('heartrate_seconds_merged',),\n",
      " ('hourlyCalories_merged',),\n",
      " ('hourlyIntensities_merged',),\n",
      " ('hourlySteps_merged',),\n",
      " ('minuteCaloriesNarrow_merged',),\n",
      " ('minuteCaloriesWide_merged',),\n",
      " ('minuteIntensitiesNarrow_merged',),\n",
      " ('minuteIntensitiesWide_merged',),\n",
      " ('minuteMETsNarrow_merged',),\n",
      " ('minuteSleep_merged',),\n",
      " ('minuteStepsNarrow_merged',),\n",
      " ('minuteStepsWide_merged',),\n",
      " ('sleepDay_merged',),\n",
      " ('weightLogInfo_merged',),\n",
      " ('minute4',)]\n"
     ]
    }
   ],
   "source": [
    "data_dir = r\"D:\\Datasets\\Fitabase_Data\"\n",
    "db_dir = data_dir + r\"\\\\database.db\"\n",
    "\n",
    "# create a connection and cursor to the database:\n",
    "db_con = sql.connect(db_dir)\n",
    "cur = db_con.cursor()\n",
    "\n",
    "# test the connection by deleting previously created tables, and listing the other tables:\n",
    "# test if connection works:\n",
    "query = \"\"\n",
    "with open(r\"SQL_queries\\SQL_delete_ALL_created_tables.txt\", mode=\"r\") as file:\n",
    "    query = file.readlines()\n",
    "cur.executescript(''.join(query))\n",
    "\n",
    "cur.execute(\"SELECT name FROM sqlite_master WHERE type='table';\")\n",
    "print(\"Tables:\")\n",
    "pprint(cur.fetchall())"
   ]
  },
  {
   "cell_type": "markdown",
   "id": "b618ef32",
   "metadata": {},
   "source": [
    "### Define Common Query Functions"
   ]
  },
  {
   "cell_type": "code",
   "execution_count": 3,
   "id": "7ef2ea97",
   "metadata": {
    "ExecuteTime": {
     "end_time": "2022-02-20T10:09:04.050315Z",
     "start_time": "2022-02-20T10:09:04.035355Z"
    }
   },
   "outputs": [],
   "source": [
    "def get_tables_and_cols(cur):\n",
    "    \"\"\" Gets the tables and columns from a cursor object.\n",
    "    RETURNS tables_cols: a list of tuples with table name and column name.\n",
    "            tables_dict: a dict where every key is a table name and every\n",
    "                        value is a list of column names.\"\"\"\n",
    "    get_cols = f\"\"\"\n",
    "    SELECT\n",
    "      m.name,\n",
    "      p.name\n",
    "    FROM \n",
    "      sqlite_master AS m\n",
    "    JOIN \n",
    "      pragma_table_info(m.name) AS p\n",
    "    WHERE m.type='table'\n",
    "    \"\"\"\n",
    "    cur.execute(get_cols)\n",
    "    tables_cols = cur.fetchall()\n",
    "\n",
    "    # create tables dictionary:\n",
    "    tables_set = set()\n",
    "    tables_dict = {}\n",
    "    for table,_ in tables_cols:\n",
    "        tables_set.add(table)\n",
    "    for table in tables_set:\n",
    "        tables_dict[table] = []\n",
    "        for tbl,col in tables_cols:\n",
    "            if table==tbl:\n",
    "                tables_dict[table].append(col)\n",
    "    return tables_dict, tables_cols\n",
    "\n",
    "def get_database_table_count(cur):\n",
    "    \"\"\" Prints the number of tables from a cursor object.\"\"\"\n",
    "    \n",
    "    cur.execute(\"SELECT COUNT(*) FROM sqlite_master WHERE type = 'table';\")\n",
    "    print(\"How many tables do we have:\", cur.fetchall())\n",
    "\n",
    "def get_all_pragma_tables(cur):\n",
    "    \"\"\" Gets the pragma (schema) tables for all tables from the cursor object.\n",
    "    Prints result as a table.\"\"\"\n",
    "    \n",
    "    all_pragma_tables_query = \"\"\"\n",
    "    SELECT \n",
    "      m.name as table_name,\n",
    "      p.*\n",
    "    FROM \n",
    "      sqlite_master AS m\n",
    "    JOIN \n",
    "      pragma_table_info(m.name) AS p\n",
    "    ORDER BY \n",
    "      m.name, \n",
    "      p.cid\n",
    "    \"\"\"\n",
    "\n",
    "    cur.execute(all_pragma_tables_query)\n",
    "    print(\"|:::::::::::::::::::::::::::::::::::::ALL PRAGMA TABLES::::::::::::::::::::::::::::::::::::::::|\")\n",
    "    print(\"|{:30}|{:3}|{:25}|{:10}|{:7}|{:11}|{:2}|\".format(\"table_name\", \"cid\", \"col_name\", \"type\", \"notnull\", \"dflt_values\", \"pk\"))\n",
    "    print(\"|\",\":\"*92,\"|\")\n",
    "    for blah in cur.fetchall():\n",
    "        blah = [str(i) for i in blah]\n",
    "        print(\"|{:30}|{:3}|{:25}|{:10}|{:7}|{:11}|{:2}|\".format(blah[0], blah[1], blah[2], blah[3], blah[4], blah[5], blah[6]))\n",
    "\n",
    "def get_table_col_example(cur):\n",
    "    \"\"\" Gets the table name, column name, and an example data point from\n",
    "    that column.\n",
    "    Prints results in neat table.\"\"\"\n",
    "    \n",
    "    _, tables_cols = get_tables_and_cols(cur)\n",
    "\n",
    "    print(\"|{:30}|{:25}|{:25}|\".format(\"TABLE\", \"COLUMN\", \"EXAMPLE\"))\n",
    "    print(\"|\",\"=\"*80,\"|\")\n",
    "    for table,col in tables_cols:\n",
    "        get_example = f\"\"\"\n",
    "        SELECT {col}\n",
    "        FROM {table}\n",
    "        LIMIT 1\n",
    "        \"\"\"\n",
    "        cur.execute(get_example)\n",
    "        print(\"|{:30}|{:25}|{:25}|\".format(table, col, str(cur.fetchall()[0][0])))\n",
    "\n",
    "def get_tables_with_num_rows(cur):\n",
    "    \"\"\" Prints table names along with the number of rows in that table.\"\"\"\n",
    "    \n",
    "    tables_dict, tables_cols = get_tables_and_cols(cur)\n",
    "    print(\"Number of rows in each table:\")\n",
    "    for table in sorted(tables_dict.keys()):\n",
    "        cur.execute(f\"SELECT COUNT(*) FROM {table}\")\n",
    "        print(\"{:32}{:>15}\".format(table, str(cur.fetchall())))\n",
    "\n",
    "def get_table_cols_with_dtypes(cur, table_name):\n",
    "    \"\"\"Prints the table column names, along with their associated data types.\"\"\"\n",
    "    \n",
    "    get_new_table_cols = f\"\"\"\n",
    "    WITH minuteTables AS (\n",
    "    SELECT m.name\n",
    "    FROM \n",
    "      sqlite_master AS m\n",
    "    JOIN \n",
    "      pragma_table_info(m.name) AS p\n",
    "    WHERE\n",
    "      m.name = '{table_name}'\n",
    "    GROUP BY\n",
    "      m.name\n",
    "    )\n",
    "    SELECT col AS columns, type AS dtype\n",
    "    FROM (\n",
    "        SELECT pti.name AS col, pti.type AS type\n",
    "        FROM minuteTables AS t CROSS JOIN pragma_table_info(t.name) AS pti\n",
    "        GROUP BY col\n",
    "    );\"\"\"\n",
    "\n",
    "    cur.execute(get_new_table_cols)\n",
    "    print(f\"`{table_name}` table cols:\")\n",
    "    pprint(cur.fetchall())"
   ]
  },
  {
   "cell_type": "markdown",
   "id": "ed2e0792",
   "metadata": {},
   "source": [
    "### Collect More Info On Our Tables/Schema\n",
    "First we find the columns that are similar across ALL tables in the database."
   ]
  },
  {
   "cell_type": "code",
   "execution_count": 4,
   "id": "fe89b400",
   "metadata": {
    "ExecuteTime": {
     "end_time": "2022-02-20T10:09:04.066272Z",
     "start_time": "2022-02-20T10:09:04.051313Z"
    }
   },
   "outputs": [
    {
     "name": "stdout",
     "output_type": "stream",
     "text": [
      "How many tables do we have: [(19,)]\n"
     ]
    }
   ],
   "source": [
    "# Lets check to see that we have 18 tables total:\n",
    "get_database_table_count(cur)"
   ]
  },
  {
   "cell_type": "code",
   "execution_count": 5,
   "id": "08358093",
   "metadata": {
    "ExecuteTime": {
     "end_time": "2022-02-20T10:09:04.082230Z",
     "start_time": "2022-02-20T10:09:04.067270Z"
    }
   },
   "outputs": [
    {
     "name": "stdout",
     "output_type": "stream",
     "text": [
      "Common columns: [('Id',)]\n"
     ]
    }
   ],
   "source": [
    "# what about common columns across all the tables?\n",
    "similar_cols_all_tbls_query = \"\"\"\n",
    "WITH tables AS (SELECT name FROM sqlite_master WHERE type = 'table')\n",
    "SELECT col AS columns\n",
    "FROM (\n",
    "    SELECT pti.name AS col\n",
    "    FROM tables AS t CROSS JOIN pragma_table_info(t.name) AS pti\n",
    "    GROUP BY col\n",
    "    HAVING COUNT(*) = (SELECT COUNT(*) FROM tables)\n",
    ");\n",
    "\"\"\"\n",
    "cur.execute(similar_cols_all_tbls_query)\n",
    "print(\"Common columns:\", cur.fetchall())"
   ]
  },
  {
   "cell_type": "code",
   "execution_count": 6,
   "id": "2dc35af3",
   "metadata": {
    "ExecuteTime": {
     "end_time": "2022-02-20T10:09:04.098187Z",
     "start_time": "2022-02-20T10:09:04.083228Z"
    }
   },
   "outputs": [
    {
     "name": "stdout",
     "output_type": "stream",
     "text": [
      "How many tables have Id columns: [('Id', 19)]\n"
     ]
    }
   ],
   "source": [
    "# double check to make sure ALL tables have the 'Id' column:\n",
    "id_check_query = \"\"\"\n",
    "WITH tables AS (SELECT name FROM sqlite_master WHERE type = 'table')\n",
    "SELECT col AS columns,\n",
    "COUNT(*) AS num_tables\n",
    "FROM (\n",
    "    SELECT pti.name AS col\n",
    "    FROM tables AS t CROSS JOIN pragma_table_info(t.name) AS pti\n",
    "    )\n",
    "WHERE col = 'Id';\n",
    "\"\"\"\n",
    "cur.execute(id_check_query)\n",
    "print(\"How many tables have Id columns:\", cur.fetchall())"
   ]
  },
  {
   "cell_type": "code",
   "execution_count": 7,
   "id": "b99ec99d",
   "metadata": {
    "ExecuteTime": {
     "end_time": "2022-02-20T10:09:04.114144Z",
     "start_time": "2022-02-20T10:09:04.099185Z"
    },
    "scrolled": true
   },
   "outputs": [
    {
     "name": "stdout",
     "output_type": "stream",
     "text": [
      "|:::::::::::::::::::::::::::::::::::::ALL PRAGMA TABLES::::::::::::::::::::::::::::::::::::::::|\n",
      "|table_name                    |cid|col_name                 |type      |notnull|dflt_values|pk|\n",
      "| :::::::::::::::::::::::::::::::::::::::::::::::::::::::::::::::::::::::::::::::::::::::::::: |\n",
      "|dailyActivity_merged          |0  |Id                       |INT       |1      |None       |0 |\n",
      "|dailyActivity_merged          |1  |ActivityDate             |DATE      |1      |None       |0 |\n",
      "|dailyActivity_merged          |2  |TotalSteps               |INT       |1      |None       |0 |\n",
      "|dailyActivity_merged          |3  |TotalDistance            |DEC(5,5)  |1      |None       |0 |\n",
      "|dailyActivity_merged          |4  |TrackerDistance          |DEC(5,5)  |1      |None       |0 |\n",
      "|dailyActivity_merged          |5  |LoggedActivitiesDistance |DEC(5,5)  |1      |None       |0 |\n",
      "|dailyActivity_merged          |6  |VeryActiveDistance       |DEC(5,5)  |1      |None       |0 |\n",
      "|dailyActivity_merged          |7  |ModeratelyActiveDistance |DEC(5,5)  |1      |None       |0 |\n",
      "|dailyActivity_merged          |8  |LightActiveDistance      |DEC(5,5)  |1      |None       |0 |\n",
      "|dailyActivity_merged          |9  |SedentaryActiveDistance  |DEC(5,5)  |1      |None       |0 |\n",
      "|dailyActivity_merged          |10 |VeryActiveMinutes        |INT       |1      |None       |0 |\n",
      "|dailyActivity_merged          |11 |FairlyActiveMinutes      |INT       |1      |None       |0 |\n",
      "|dailyActivity_merged          |12 |LightlyActiveMinutes     |INT       |1      |None       |0 |\n",
      "|dailyActivity_merged          |13 |SedentaryMinutes         |INT       |1      |None       |0 |\n",
      "|dailyActivity_merged          |14 |Calories                 |INT       |1      |None       |0 |\n",
      "|dailyCalories_merged          |0  |Id                       |INT       |1      |None       |0 |\n",
      "|dailyCalories_merged          |1  |ActivityDay              |DATE      |1      |None       |0 |\n",
      "|dailyCalories_merged          |2  |Calories                 |INT       |1      |None       |0 |\n",
      "|dailyIntensities_merged       |0  |Id                       |INT       |1      |None       |0 |\n",
      "|dailyIntensities_merged       |1  |ActivityDay              |DATE      |1      |None       |0 |\n",
      "|dailyIntensities_merged       |2  |SedentaryMinutes         |INT       |1      |None       |0 |\n",
      "|dailyIntensities_merged       |3  |LightlyActiveMinutes     |INT       |1      |None       |0 |\n",
      "|dailyIntensities_merged       |4  |FairlyActiveMinutes      |INT       |1      |None       |0 |\n",
      "|dailyIntensities_merged       |5  |VeryActiveMinutes        |INT       |1      |None       |0 |\n",
      "|dailyIntensities_merged       |6  |SedentaryActiveDistance  |DEC(5,5)  |1      |None       |0 |\n",
      "|dailyIntensities_merged       |7  |LightActiveDistance      |DEC(5,5)  |1      |None       |0 |\n",
      "|dailyIntensities_merged       |8  |ModeratelyActiveDistance |DEC(5,5)  |1      |None       |0 |\n",
      "|dailyIntensities_merged       |9  |VeryActiveDistance       |DEC(5,5)  |1      |None       |0 |\n",
      "|dailySteps_merged             |0  |Id                       |INT       |1      |None       |0 |\n",
      "|dailySteps_merged             |1  |ActivityDay              |DATE      |1      |None       |0 |\n",
      "|dailySteps_merged             |2  |StepTotal                |INT       |1      |None       |0 |\n",
      "|heartrate_seconds_merged      |0  |Id                       |INT       |1      |None       |0 |\n",
      "|heartrate_seconds_merged      |1  |Time                     |DATETIME  |1      |None       |0 |\n",
      "|heartrate_seconds_merged      |2  |Value                    |INT       |1      |None       |0 |\n",
      "|hourlyCalories_merged         |0  |Id                       |INT       |1      |None       |0 |\n",
      "|hourlyCalories_merged         |1  |ActivityHour             |DATETIME  |1      |None       |0 |\n",
      "|hourlyCalories_merged         |2  |Calories                 |INT       |1      |None       |0 |\n",
      "|hourlyIntensities_merged      |0  |Id                       |INT       |1      |None       |0 |\n",
      "|hourlyIntensities_merged      |1  |ActivityHour             |DATETIME  |1      |None       |0 |\n",
      "|hourlyIntensities_merged      |2  |TotalIntensity           |INT       |1      |None       |0 |\n",
      "|hourlyIntensities_merged      |3  |AverageIntensity         |DEC(5,5)  |1      |None       |0 |\n",
      "|hourlySteps_merged            |0  |Id                       |INT       |1      |None       |0 |\n",
      "|hourlySteps_merged            |1  |ActivityHour             |DATETIME  |1      |None       |0 |\n",
      "|hourlySteps_merged            |2  |StepTotal                |INT       |1      |None       |0 |\n",
      "|minute4                       |0  |Id                       |INT       |0      |None       |0 |\n",
      "|minute4                       |1  |ActivityMinute           |NUM       |0      |None       |0 |\n",
      "|minute4                       |2  |Calories                 |NUM       |0      |None       |0 |\n",
      "|minute4                       |3  |Intensity                |INT       |0      |None       |0 |\n",
      "|minute4                       |4  |METs                     |INT       |0      |None       |0 |\n",
      "|minute4                       |5  |Steps                    |INT       |0      |None       |0 |\n",
      "|minute4                       |6  |value                    |INT       |0      |None       |0 |\n",
      "|minute4                       |7  |logId                    |INT       |0      |None       |0 |\n",
      "|minuteCaloriesNarrow_merged   |0  |Id                       |INT       |1      |None       |0 |\n",
      "|minuteCaloriesNarrow_merged   |1  |ActivityMinute           |DATETIME  |1      |None       |0 |\n",
      "|minuteCaloriesNarrow_merged   |2  |Calories                 |DEC(5,5)  |1      |None       |0 |\n",
      "|minuteCaloriesWide_merged     |0  |Id                       |INT       |1      |None       |0 |\n",
      "|minuteCaloriesWide_merged     |1  |ActivityHour             |DATETIME  |1      |None       |0 |\n",
      "|minuteCaloriesWide_merged     |2  |Calories00               |DEC(5,5)  |1      |None       |0 |\n",
      "|minuteCaloriesWide_merged     |3  |Calories01               |DEC(5,5)  |1      |None       |0 |\n",
      "|minuteCaloriesWide_merged     |4  |Calories02               |DEC(5,5)  |1      |None       |0 |\n",
      "|minuteCaloriesWide_merged     |5  |Calories03               |DEC(5,5)  |1      |None       |0 |\n",
      "|minuteCaloriesWide_merged     |6  |Calories04               |DEC(5,5)  |1      |None       |0 |\n",
      "|minuteCaloriesWide_merged     |7  |Calories05               |DEC(5,5)  |1      |None       |0 |\n",
      "|minuteCaloriesWide_merged     |8  |Calories06               |DEC(5,5)  |1      |None       |0 |\n",
      "|minuteCaloriesWide_merged     |9  |Calories07               |DEC(5,5)  |1      |None       |0 |\n",
      "|minuteCaloriesWide_merged     |10 |Calories08               |DEC(5,5)  |1      |None       |0 |\n",
      "|minuteCaloriesWide_merged     |11 |Calories09               |DEC(5,5)  |1      |None       |0 |\n",
      "|minuteCaloriesWide_merged     |12 |Calories10               |DEC(5,5)  |1      |None       |0 |\n",
      "|minuteCaloriesWide_merged     |13 |Calories11               |DEC(5,5)  |1      |None       |0 |\n",
      "|minuteCaloriesWide_merged     |14 |Calories12               |DEC(5,5)  |1      |None       |0 |\n",
      "|minuteCaloriesWide_merged     |15 |Calories13               |DEC(5,5)  |1      |None       |0 |\n",
      "|minuteCaloriesWide_merged     |16 |Calories14               |DEC(5,5)  |1      |None       |0 |\n",
      "|minuteCaloriesWide_merged     |17 |Calories15               |DEC(5,5)  |1      |None       |0 |\n",
      "|minuteCaloriesWide_merged     |18 |Calories16               |DEC(5,5)  |1      |None       |0 |\n",
      "|minuteCaloriesWide_merged     |19 |Calories17               |DEC(5,5)  |1      |None       |0 |\n",
      "|minuteCaloriesWide_merged     |20 |Calories18               |DEC(5,5)  |1      |None       |0 |\n",
      "|minuteCaloriesWide_merged     |21 |Calories19               |DEC(5,5)  |1      |None       |0 |\n",
      "|minuteCaloriesWide_merged     |22 |Calories20               |DEC(5,5)  |1      |None       |0 |\n",
      "|minuteCaloriesWide_merged     |23 |Calories21               |DEC(5,5)  |1      |None       |0 |\n",
      "|minuteCaloriesWide_merged     |24 |Calories22               |DEC(5,5)  |1      |None       |0 |\n",
      "|minuteCaloriesWide_merged     |25 |Calories23               |DEC(5,5)  |1      |None       |0 |\n",
      "|minuteCaloriesWide_merged     |26 |Calories24               |DEC(5,5)  |1      |None       |0 |\n",
      "|minuteCaloriesWide_merged     |27 |Calories25               |DEC(5,5)  |1      |None       |0 |\n",
      "|minuteCaloriesWide_merged     |28 |Calories26               |DEC(5,5)  |1      |None       |0 |\n",
      "|minuteCaloriesWide_merged     |29 |Calories27               |DEC(5,5)  |1      |None       |0 |\n",
      "|minuteCaloriesWide_merged     |30 |Calories28               |DEC(5,5)  |1      |None       |0 |\n",
      "|minuteCaloriesWide_merged     |31 |Calories29               |DEC(5,5)  |1      |None       |0 |\n",
      "|minuteCaloriesWide_merged     |32 |Calories30               |DEC(5,5)  |1      |None       |0 |\n",
      "|minuteCaloriesWide_merged     |33 |Calories31               |DEC(5,5)  |1      |None       |0 |\n",
      "|minuteCaloriesWide_merged     |34 |Calories32               |DEC(5,5)  |1      |None       |0 |\n",
      "|minuteCaloriesWide_merged     |35 |Calories33               |DEC(5,5)  |1      |None       |0 |\n",
      "|minuteCaloriesWide_merged     |36 |Calories34               |DEC(5,5)  |1      |None       |0 |\n",
      "|minuteCaloriesWide_merged     |37 |Calories35               |DEC(5,5)  |1      |None       |0 |\n",
      "|minuteCaloriesWide_merged     |38 |Calories36               |DEC(5,5)  |1      |None       |0 |\n",
      "|minuteCaloriesWide_merged     |39 |Calories37               |DEC(5,5)  |1      |None       |0 |\n",
      "|minuteCaloriesWide_merged     |40 |Calories38               |DEC(5,5)  |1      |None       |0 |\n",
      "|minuteCaloriesWide_merged     |41 |Calories39               |DEC(5,5)  |1      |None       |0 |\n",
      "|minuteCaloriesWide_merged     |42 |Calories40               |DEC(5,5)  |1      |None       |0 |\n",
      "|minuteCaloriesWide_merged     |43 |Calories41               |DEC(5,5)  |1      |None       |0 |\n",
      "|minuteCaloriesWide_merged     |44 |Calories42               |DEC(5,5)  |1      |None       |0 |\n",
      "|minuteCaloriesWide_merged     |45 |Calories43               |DEC(5,5)  |1      |None       |0 |\n",
      "|minuteCaloriesWide_merged     |46 |Calories44               |DEC(5,5)  |1      |None       |0 |\n",
      "|minuteCaloriesWide_merged     |47 |Calories45               |DEC(5,5)  |1      |None       |0 |\n",
      "|minuteCaloriesWide_merged     |48 |Calories46               |DEC(5,5)  |1      |None       |0 |\n",
      "|minuteCaloriesWide_merged     |49 |Calories47               |DEC(5,5)  |1      |None       |0 |\n",
      "|minuteCaloriesWide_merged     |50 |Calories48               |DEC(5,5)  |1      |None       |0 |\n",
      "|minuteCaloriesWide_merged     |51 |Calories49               |DEC(5,5)  |1      |None       |0 |\n",
      "|minuteCaloriesWide_merged     |52 |Calories50               |DEC(5,5)  |1      |None       |0 |\n",
      "|minuteCaloriesWide_merged     |53 |Calories51               |DEC(5,5)  |1      |None       |0 |\n",
      "|minuteCaloriesWide_merged     |54 |Calories52               |DEC(5,5)  |1      |None       |0 |\n",
      "|minuteCaloriesWide_merged     |55 |Calories53               |DEC(5,5)  |1      |None       |0 |\n",
      "|minuteCaloriesWide_merged     |56 |Calories54               |DEC(5,5)  |1      |None       |0 |\n",
      "|minuteCaloriesWide_merged     |57 |Calories55               |DEC(5,5)  |1      |None       |0 |\n",
      "|minuteCaloriesWide_merged     |58 |Calories56               |DEC(5,5)  |1      |None       |0 |\n",
      "|minuteCaloriesWide_merged     |59 |Calories57               |DEC(5,5)  |1      |None       |0 |\n",
      "|minuteCaloriesWide_merged     |60 |Calories58               |DEC(5,5)  |1      |None       |0 |\n",
      "|minuteCaloriesWide_merged     |61 |Calories59               |DEC(5,5)  |1      |None       |0 |\n",
      "|minuteIntensitiesNarrow_merged|0  |Id                       |INT       |1      |None       |0 |\n",
      "|minuteIntensitiesNarrow_merged|1  |ActivityMinute           |DATETIME  |1      |None       |0 |\n",
      "|minuteIntensitiesNarrow_merged|2  |Intensity                |INT       |1      |None       |0 |\n",
      "|minuteIntensitiesWide_merged  |0  |Id                       |INT       |1      |None       |0 |\n",
      "|minuteIntensitiesWide_merged  |1  |ActivityHour             |DATETIME  |1      |None       |0 |\n",
      "|minuteIntensitiesWide_merged  |2  |Intensity00              |INT       |1      |None       |0 |\n",
      "|minuteIntensitiesWide_merged  |3  |Intensity01              |INT       |1      |None       |0 |\n",
      "|minuteIntensitiesWide_merged  |4  |Intensity02              |INT       |1      |None       |0 |\n",
      "|minuteIntensitiesWide_merged  |5  |Intensity03              |INT       |1      |None       |0 |\n",
      "|minuteIntensitiesWide_merged  |6  |Intensity04              |INT       |1      |None       |0 |\n",
      "|minuteIntensitiesWide_merged  |7  |Intensity05              |INT       |1      |None       |0 |\n",
      "|minuteIntensitiesWide_merged  |8  |Intensity06              |INT       |1      |None       |0 |\n",
      "|minuteIntensitiesWide_merged  |9  |Intensity07              |INT       |1      |None       |0 |\n",
      "|minuteIntensitiesWide_merged  |10 |Intensity08              |INT       |1      |None       |0 |\n",
      "|minuteIntensitiesWide_merged  |11 |Intensity09              |INT       |1      |None       |0 |\n",
      "|minuteIntensitiesWide_merged  |12 |Intensity10              |INT       |1      |None       |0 |\n",
      "|minuteIntensitiesWide_merged  |13 |Intensity11              |INT       |1      |None       |0 |\n",
      "|minuteIntensitiesWide_merged  |14 |Intensity12              |INT       |1      |None       |0 |\n",
      "|minuteIntensitiesWide_merged  |15 |Intensity13              |INT       |1      |None       |0 |\n",
      "|minuteIntensitiesWide_merged  |16 |Intensity14              |INT       |1      |None       |0 |\n",
      "|minuteIntensitiesWide_merged  |17 |Intensity15              |INT       |1      |None       |0 |\n",
      "|minuteIntensitiesWide_merged  |18 |Intensity16              |INT       |1      |None       |0 |\n",
      "|minuteIntensitiesWide_merged  |19 |Intensity17              |INT       |1      |None       |0 |\n",
      "|minuteIntensitiesWide_merged  |20 |Intensity18              |INT       |1      |None       |0 |\n",
      "|minuteIntensitiesWide_merged  |21 |Intensity19              |INT       |1      |None       |0 |\n",
      "|minuteIntensitiesWide_merged  |22 |Intensity20              |INT       |1      |None       |0 |\n",
      "|minuteIntensitiesWide_merged  |23 |Intensity21              |INT       |1      |None       |0 |\n",
      "|minuteIntensitiesWide_merged  |24 |Intensity22              |INT       |1      |None       |0 |\n",
      "|minuteIntensitiesWide_merged  |25 |Intensity23              |INT       |1      |None       |0 |\n",
      "|minuteIntensitiesWide_merged  |26 |Intensity24              |INT       |1      |None       |0 |\n",
      "|minuteIntensitiesWide_merged  |27 |Intensity25              |INT       |1      |None       |0 |\n",
      "|minuteIntensitiesWide_merged  |28 |Intensity26              |INT       |1      |None       |0 |\n",
      "|minuteIntensitiesWide_merged  |29 |Intensity27              |INT       |1      |None       |0 |\n",
      "|minuteIntensitiesWide_merged  |30 |Intensity28              |INT       |1      |None       |0 |\n",
      "|minuteIntensitiesWide_merged  |31 |Intensity29              |INT       |1      |None       |0 |\n",
      "|minuteIntensitiesWide_merged  |32 |Intensity30              |INT       |1      |None       |0 |\n",
      "|minuteIntensitiesWide_merged  |33 |Intensity31              |INT       |1      |None       |0 |\n",
      "|minuteIntensitiesWide_merged  |34 |Intensity32              |INT       |1      |None       |0 |\n",
      "|minuteIntensitiesWide_merged  |35 |Intensity33              |INT       |1      |None       |0 |\n",
      "|minuteIntensitiesWide_merged  |36 |Intensity34              |INT       |1      |None       |0 |\n",
      "|minuteIntensitiesWide_merged  |37 |Intensity35              |INT       |1      |None       |0 |\n",
      "|minuteIntensitiesWide_merged  |38 |Intensity36              |INT       |1      |None       |0 |\n",
      "|minuteIntensitiesWide_merged  |39 |Intensity37              |INT       |1      |None       |0 |\n",
      "|minuteIntensitiesWide_merged  |40 |Intensity38              |INT       |1      |None       |0 |\n",
      "|minuteIntensitiesWide_merged  |41 |Intensity39              |INT       |1      |None       |0 |\n",
      "|minuteIntensitiesWide_merged  |42 |Intensity40              |INT       |1      |None       |0 |\n",
      "|minuteIntensitiesWide_merged  |43 |Intensity41              |INT       |1      |None       |0 |\n",
      "|minuteIntensitiesWide_merged  |44 |Intensity42              |INT       |1      |None       |0 |\n",
      "|minuteIntensitiesWide_merged  |45 |Intensity43              |INT       |1      |None       |0 |\n",
      "|minuteIntensitiesWide_merged  |46 |Intensity44              |INT       |1      |None       |0 |\n",
      "|minuteIntensitiesWide_merged  |47 |Intensity45              |INT       |1      |None       |0 |\n",
      "|minuteIntensitiesWide_merged  |48 |Intensity46              |INT       |1      |None       |0 |\n",
      "|minuteIntensitiesWide_merged  |49 |Intensity47              |INT       |1      |None       |0 |\n",
      "|minuteIntensitiesWide_merged  |50 |Intensity48              |INT       |1      |None       |0 |\n",
      "|minuteIntensitiesWide_merged  |51 |Intensity49              |INT       |1      |None       |0 |\n",
      "|minuteIntensitiesWide_merged  |52 |Intensity50              |INT       |1      |None       |0 |\n",
      "|minuteIntensitiesWide_merged  |53 |Intensity51              |INT       |1      |None       |0 |\n",
      "|minuteIntensitiesWide_merged  |54 |Intensity52              |INT       |1      |None       |0 |\n",
      "|minuteIntensitiesWide_merged  |55 |Intensity53              |INT       |1      |None       |0 |\n",
      "|minuteIntensitiesWide_merged  |56 |Intensity54              |INT       |1      |None       |0 |\n",
      "|minuteIntensitiesWide_merged  |57 |Intensity55              |INT       |1      |None       |0 |\n",
      "|minuteIntensitiesWide_merged  |58 |Intensity56              |INT       |1      |None       |0 |\n",
      "|minuteIntensitiesWide_merged  |59 |Intensity57              |INT       |1      |None       |0 |\n",
      "|minuteIntensitiesWide_merged  |60 |Intensity58              |INT       |1      |None       |0 |\n",
      "|minuteIntensitiesWide_merged  |61 |Intensity59              |INT       |1      |None       |0 |\n",
      "|minuteMETsNarrow_merged       |0  |Id                       |INT       |1      |None       |0 |\n",
      "|minuteMETsNarrow_merged       |1  |ActivityMinute           |DATETIME  |1      |None       |0 |\n",
      "|minuteMETsNarrow_merged       |2  |METs                     |INT       |1      |None       |0 |\n",
      "|minuteSleep_merged            |0  |Id                       |INT       |1      |None       |0 |\n",
      "|minuteSleep_merged            |1  |date                     |DATE      |1      |None       |0 |\n",
      "|minuteSleep_merged            |2  |value                    |INT       |1      |None       |0 |\n",
      "|minuteSleep_merged            |3  |logId                    |INT       |1      |None       |0 |\n",
      "|minuteStepsNarrow_merged      |0  |Id                       |INT       |1      |None       |0 |\n",
      "|minuteStepsNarrow_merged      |1  |ActivityMinute           |DATETIME  |1      |None       |0 |\n",
      "|minuteStepsNarrow_merged      |2  |Steps                    |INT       |1      |None       |0 |\n",
      "|minuteStepsWide_merged        |0  |Id                       |INT       |1      |None       |0 |\n",
      "|minuteStepsWide_merged        |1  |ActivityHour             |DATETIME  |1      |None       |0 |\n",
      "|minuteStepsWide_merged        |2  |Steps00                  |INT       |1      |None       |0 |\n",
      "|minuteStepsWide_merged        |3  |Steps01                  |INT       |1      |None       |0 |\n",
      "|minuteStepsWide_merged        |4  |Steps02                  |INT       |1      |None       |0 |\n",
      "|minuteStepsWide_merged        |5  |Steps03                  |INT       |1      |None       |0 |\n",
      "|minuteStepsWide_merged        |6  |Steps04                  |INT       |1      |None       |0 |\n",
      "|minuteStepsWide_merged        |7  |Steps05                  |INT       |1      |None       |0 |\n",
      "|minuteStepsWide_merged        |8  |Steps06                  |INT       |1      |None       |0 |\n",
      "|minuteStepsWide_merged        |9  |Steps07                  |INT       |1      |None       |0 |\n",
      "|minuteStepsWide_merged        |10 |Steps08                  |INT       |1      |None       |0 |\n",
      "|minuteStepsWide_merged        |11 |Steps09                  |INT       |1      |None       |0 |\n",
      "|minuteStepsWide_merged        |12 |Steps10                  |INT       |1      |None       |0 |\n",
      "|minuteStepsWide_merged        |13 |Steps11                  |INT       |1      |None       |0 |\n",
      "|minuteStepsWide_merged        |14 |Steps12                  |INT       |1      |None       |0 |\n",
      "|minuteStepsWide_merged        |15 |Steps13                  |INT       |1      |None       |0 |\n",
      "|minuteStepsWide_merged        |16 |Steps14                  |INT       |1      |None       |0 |\n",
      "|minuteStepsWide_merged        |17 |Steps15                  |INT       |1      |None       |0 |\n",
      "|minuteStepsWide_merged        |18 |Steps16                  |INT       |1      |None       |0 |\n",
      "|minuteStepsWide_merged        |19 |Steps17                  |INT       |1      |None       |0 |\n",
      "|minuteStepsWide_merged        |20 |Steps18                  |INT       |1      |None       |0 |\n",
      "|minuteStepsWide_merged        |21 |Steps19                  |INT       |1      |None       |0 |\n",
      "|minuteStepsWide_merged        |22 |Steps20                  |INT       |1      |None       |0 |\n",
      "|minuteStepsWide_merged        |23 |Steps21                  |INT       |1      |None       |0 |\n",
      "|minuteStepsWide_merged        |24 |Steps22                  |INT       |1      |None       |0 |\n",
      "|minuteStepsWide_merged        |25 |Steps23                  |INT       |1      |None       |0 |\n",
      "|minuteStepsWide_merged        |26 |Steps24                  |INT       |1      |None       |0 |\n",
      "|minuteStepsWide_merged        |27 |Steps25                  |INT       |1      |None       |0 |\n",
      "|minuteStepsWide_merged        |28 |Steps26                  |INT       |1      |None       |0 |\n",
      "|minuteStepsWide_merged        |29 |Steps27                  |INT       |1      |None       |0 |\n",
      "|minuteStepsWide_merged        |30 |Steps28                  |INT       |1      |None       |0 |\n",
      "|minuteStepsWide_merged        |31 |Steps29                  |INT       |1      |None       |0 |\n",
      "|minuteStepsWide_merged        |32 |Steps30                  |INT       |1      |None       |0 |\n",
      "|minuteStepsWide_merged        |33 |Steps31                  |INT       |1      |None       |0 |\n",
      "|minuteStepsWide_merged        |34 |Steps32                  |INT       |1      |None       |0 |\n",
      "|minuteStepsWide_merged        |35 |Steps33                  |INT       |1      |None       |0 |\n",
      "|minuteStepsWide_merged        |36 |Steps34                  |INT       |1      |None       |0 |\n",
      "|minuteStepsWide_merged        |37 |Steps35                  |INT       |1      |None       |0 |\n",
      "|minuteStepsWide_merged        |38 |Steps36                  |INT       |1      |None       |0 |\n",
      "|minuteStepsWide_merged        |39 |Steps37                  |INT       |1      |None       |0 |\n",
      "|minuteStepsWide_merged        |40 |Steps38                  |INT       |1      |None       |0 |\n",
      "|minuteStepsWide_merged        |41 |Steps39                  |INT       |1      |None       |0 |\n",
      "|minuteStepsWide_merged        |42 |Steps40                  |INT       |1      |None       |0 |\n",
      "|minuteStepsWide_merged        |43 |Steps41                  |INT       |1      |None       |0 |\n",
      "|minuteStepsWide_merged        |44 |Steps42                  |INT       |1      |None       |0 |\n",
      "|minuteStepsWide_merged        |45 |Steps43                  |INT       |1      |None       |0 |\n",
      "|minuteStepsWide_merged        |46 |Steps44                  |INT       |1      |None       |0 |\n",
      "|minuteStepsWide_merged        |47 |Steps45                  |INT       |1      |None       |0 |\n",
      "|minuteStepsWide_merged        |48 |Steps46                  |INT       |1      |None       |0 |\n",
      "|minuteStepsWide_merged        |49 |Steps47                  |INT       |1      |None       |0 |\n",
      "|minuteStepsWide_merged        |50 |Steps48                  |INT       |1      |None       |0 |\n",
      "|minuteStepsWide_merged        |51 |Steps49                  |INT       |1      |None       |0 |\n",
      "|minuteStepsWide_merged        |52 |Steps50                  |INT       |1      |None       |0 |\n",
      "|minuteStepsWide_merged        |53 |Steps51                  |INT       |1      |None       |0 |\n",
      "|minuteStepsWide_merged        |54 |Steps52                  |INT       |1      |None       |0 |\n",
      "|minuteStepsWide_merged        |55 |Steps53                  |INT       |1      |None       |0 |\n",
      "|minuteStepsWide_merged        |56 |Steps54                  |INT       |1      |None       |0 |\n",
      "|minuteStepsWide_merged        |57 |Steps55                  |INT       |1      |None       |0 |\n",
      "|minuteStepsWide_merged        |58 |Steps56                  |INT       |1      |None       |0 |\n",
      "|minuteStepsWide_merged        |59 |Steps57                  |INT       |1      |None       |0 |\n",
      "|minuteStepsWide_merged        |60 |Steps58                  |INT       |1      |None       |0 |\n",
      "|minuteStepsWide_merged        |61 |Steps59                  |INT       |1      |None       |0 |\n",
      "|sleepDay_merged               |0  |Id                       |INT       |1      |None       |0 |\n",
      "|sleepDay_merged               |1  |SleepDay                 |DATETIME  |1      |None       |0 |\n",
      "|sleepDay_merged               |2  |TotalSleepRecords        |INT       |1      |None       |0 |\n",
      "|sleepDay_merged               |3  |TotalMinutesAsleep       |INT       |1      |None       |0 |\n",
      "|sleepDay_merged               |4  |TotalTimeInBed           |INT       |1      |None       |0 |\n",
      "|weightLogInfo_merged          |0  |Id                       |INT       |1      |None       |0 |\n",
      "|weightLogInfo_merged          |1  |Date                     |DATETIME  |1      |None       |0 |\n",
      "|weightLogInfo_merged          |2  |WeightKg                 |DEC(5,5)  |1      |None       |0 |\n",
      "|weightLogInfo_merged          |3  |WeightPounds             |DEC(5,5)  |1      |None       |0 |\n",
      "|weightLogInfo_merged          |4  |Fat                      |INT       |1      |None       |0 |\n",
      "|weightLogInfo_merged          |5  |BMI                      |DEC(5,5)  |1      |None       |0 |\n",
      "|weightLogInfo_merged          |6  |IsManualReport           |TEXT      |1      |None       |0 |\n",
      "|weightLogInfo_merged          |7  |LogId                    |INT       |1      |None       |0 |\n"
     ]
    }
   ],
   "source": [
    "# Look at all cols and their data types:\n",
    "get_all_pragma_tables(cur)"
   ]
  },
  {
   "cell_type": "markdown",
   "id": "c2d516d0",
   "metadata": {},
   "source": [
    "We can also see an example from each column:"
   ]
  },
  {
   "cell_type": "code",
   "execution_count": 8,
   "id": "240deb63",
   "metadata": {
    "ExecuteTime": {
     "end_time": "2022-02-20T10:09:04.175979Z",
     "start_time": "2022-02-20T10:09:04.117137Z"
    },
    "scrolled": true
   },
   "outputs": [
    {
     "name": "stdout",
     "output_type": "stream",
     "text": [
      "|TABLE                         |COLUMN                   |EXAMPLE                  |\n",
      "| ================================================================================ |\n",
      "|dailyActivity_merged          |Id                       |1503960366               |\n",
      "|dailyActivity_merged          |ActivityDate             |4/12/2016                |\n",
      "|dailyActivity_merged          |TotalSteps               |13162                    |\n",
      "|dailyActivity_merged          |TotalDistance            |8.5                      |\n",
      "|dailyActivity_merged          |TrackerDistance          |8.5                      |\n",
      "|dailyActivity_merged          |LoggedActivitiesDistance |0                        |\n",
      "|dailyActivity_merged          |VeryActiveDistance       |1.87999999523163         |\n",
      "|dailyActivity_merged          |ModeratelyActiveDistance |0.550000011920929        |\n",
      "|dailyActivity_merged          |LightActiveDistance      |6.05999994277954         |\n",
      "|dailyActivity_merged          |SedentaryActiveDistance  |0                        |\n",
      "|dailyActivity_merged          |VeryActiveMinutes        |25                       |\n",
      "|dailyActivity_merged          |FairlyActiveMinutes      |13                       |\n",
      "|dailyActivity_merged          |LightlyActiveMinutes     |328                      |\n",
      "|dailyActivity_merged          |SedentaryMinutes         |728                      |\n",
      "|dailyActivity_merged          |Calories                 |1985                     |\n",
      "|dailyCalories_merged          |Id                       |1503960366               |\n",
      "|dailyCalories_merged          |ActivityDay              |4/12/2016                |\n",
      "|dailyCalories_merged          |Calories                 |1985                     |\n",
      "|dailyIntensities_merged       |Id                       |1503960366               |\n",
      "|dailyIntensities_merged       |ActivityDay              |4/12/2016                |\n",
      "|dailyIntensities_merged       |SedentaryMinutes         |728                      |\n",
      "|dailyIntensities_merged       |LightlyActiveMinutes     |328                      |\n",
      "|dailyIntensities_merged       |FairlyActiveMinutes      |13                       |\n",
      "|dailyIntensities_merged       |VeryActiveMinutes        |25                       |\n",
      "|dailyIntensities_merged       |SedentaryActiveDistance  |0                        |\n",
      "|dailyIntensities_merged       |LightActiveDistance      |6.05999994277954         |\n",
      "|dailyIntensities_merged       |ModeratelyActiveDistance |0.550000011920929        |\n",
      "|dailyIntensities_merged       |VeryActiveDistance       |1.87999999523163         |\n",
      "|dailySteps_merged             |Id                       |1503960366               |\n",
      "|dailySteps_merged             |ActivityDay              |4/12/2016                |\n",
      "|dailySteps_merged             |StepTotal                |13162                    |\n",
      "|heartrate_seconds_merged      |Id                       |2022484408               |\n",
      "|heartrate_seconds_merged      |Time                     |4/12/2016 7:21:00 AM     |\n",
      "|heartrate_seconds_merged      |Value                    |97                       |\n",
      "|hourlyCalories_merged         |Id                       |1503960366               |\n",
      "|hourlyCalories_merged         |ActivityHour             |4/12/2016 12:00:00 AM    |\n",
      "|hourlyCalories_merged         |Calories                 |81                       |\n",
      "|hourlyIntensities_merged      |Id                       |1503960366               |\n",
      "|hourlyIntensities_merged      |ActivityHour             |4/12/2016 12:00:00 AM    |\n",
      "|hourlyIntensities_merged      |TotalIntensity           |20                       |\n",
      "|hourlyIntensities_merged      |AverageIntensity         |0.333333                 |\n",
      "|hourlySteps_merged            |Id                       |1503960366               |\n",
      "|hourlySteps_merged            |ActivityHour             |4/12/2016 12:00:00 AM    |\n",
      "|hourlySteps_merged            |StepTotal                |373                      |\n",
      "|minuteCaloriesNarrow_merged   |Id                       |1503960366               |\n",
      "|minuteCaloriesNarrow_merged   |ActivityMinute           |4/12/2016 12:00:00 AM    |\n",
      "|minuteCaloriesNarrow_merged   |Calories                 |0.786499977111816        |\n",
      "|minuteCaloriesWide_merged     |Id                       |1503960366               |\n",
      "|minuteCaloriesWide_merged     |ActivityHour             |4/13/2016 12:00:00 AM    |\n",
      "|minuteCaloriesWide_merged     |Calories00               |1.88759994506836         |\n",
      "|minuteCaloriesWide_merged     |Calories01               |2.20219993591309         |\n",
      "|minuteCaloriesWide_merged     |Calories02               |0.94379997253418         |\n",
      "|minuteCaloriesWide_merged     |Calories03               |0.94379997253418         |\n",
      "|minuteCaloriesWide_merged     |Calories04               |0.94379997253418         |\n",
      "|minuteCaloriesWide_merged     |Calories05               |2.04489994049072         |\n",
      "|minuteCaloriesWide_merged     |Calories06               |0.94379997253418         |\n",
      "|minuteCaloriesWide_merged     |Calories07               |2.20219993591309         |\n",
      "|minuteCaloriesWide_merged     |Calories08               |0.94379997253418         |\n",
      "|minuteCaloriesWide_merged     |Calories09               |0.786499977111816        |\n",
      "|minuteCaloriesWide_merged     |Calories10               |0.94379997253418         |\n",
      "|minuteCaloriesWide_merged     |Calories11               |0.786499977111816        |\n",
      "|minuteCaloriesWide_merged     |Calories12               |0.786499977111816        |\n",
      "|minuteCaloriesWide_merged     |Calories13               |0.786499977111816        |\n",
      "|minuteCaloriesWide_merged     |Calories14               |0.786499977111816        |\n",
      "|minuteCaloriesWide_merged     |Calories15               |0.94379997253418         |\n",
      "|minuteCaloriesWide_merged     |Calories16               |0.94379997253418         |\n",
      "|minuteCaloriesWide_merged     |Calories17               |0.786499977111816        |\n",
      "|minuteCaloriesWide_merged     |Calories18               |0.786499977111816        |\n",
      "|minuteCaloriesWide_merged     |Calories19               |0.786499977111816        |\n",
      "|minuteCaloriesWide_merged     |Calories20               |1.88759994506836         |\n",
      "|minuteCaloriesWide_merged     |Calories21               |0.94379997253418         |\n",
      "|minuteCaloriesWide_merged     |Calories22               |0.94379997253418         |\n",
      "|minuteCaloriesWide_merged     |Calories23               |0.94379997253418         |\n",
      "|minuteCaloriesWide_merged     |Calories24               |0.94379997253418         |\n",
      "|minuteCaloriesWide_merged     |Calories25               |2.04489994049072         |\n",
      "|minuteCaloriesWide_merged     |Calories26               |2.35949993133545         |\n",
      "|minuteCaloriesWide_merged     |Calories27               |0.94379997253418         |\n",
      "|minuteCaloriesWide_merged     |Calories28               |2.04489994049072         |\n",
      "|minuteCaloriesWide_merged     |Calories29               |0.94379997253418         |\n",
      "|minuteCaloriesWide_merged     |Calories30               |0.94379997253418         |\n",
      "|minuteCaloriesWide_merged     |Calories31               |0.94379997253418         |\n",
      "|minuteCaloriesWide_merged     |Calories32               |2.04489994049072         |\n",
      "|minuteCaloriesWide_merged     |Calories33               |1.88759994506836         |\n",
      "|minuteCaloriesWide_merged     |Calories34               |0.94379997253418         |\n",
      "|minuteCaloriesWide_merged     |Calories35               |0.786499977111816        |\n",
      "|minuteCaloriesWide_merged     |Calories36               |0.786499977111816        |\n",
      "|minuteCaloriesWide_merged     |Calories37               |0.786499977111816        |\n",
      "|minuteCaloriesWide_merged     |Calories38               |0.786499977111816        |\n",
      "|minuteCaloriesWide_merged     |Calories39               |0.786499977111816        |\n",
      "|minuteCaloriesWide_merged     |Calories40               |0.786499977111816        |\n",
      "|minuteCaloriesWide_merged     |Calories41               |0.786499977111816        |\n",
      "|minuteCaloriesWide_merged     |Calories42               |0.786499977111816        |\n",
      "|minuteCaloriesWide_merged     |Calories43               |0.786499977111816        |\n",
      "|minuteCaloriesWide_merged     |Calories44               |0.786499977111816        |\n",
      "|minuteCaloriesWide_merged     |Calories45               |0.786499977111816        |\n",
      "|minuteCaloriesWide_merged     |Calories46               |0.786499977111816        |\n",
      "|minuteCaloriesWide_merged     |Calories47               |0.786499977111816        |\n",
      "|minuteCaloriesWide_merged     |Calories48               |0.786499977111816        |\n",
      "|minuteCaloriesWide_merged     |Calories49               |0.786499977111816        |\n",
      "|minuteCaloriesWide_merged     |Calories50               |0.94379997253418         |\n",
      "|minuteCaloriesWide_merged     |Calories51               |2.04489994049072         |\n",
      "|minuteCaloriesWide_merged     |Calories52               |2.04489994049072         |\n",
      "|minuteCaloriesWide_merged     |Calories53               |0.94379997253418         |\n",
      "|minuteCaloriesWide_merged     |Calories54               |2.35949993133545         |\n",
      "|minuteCaloriesWide_merged     |Calories55               |1.88759994506836         |\n",
      "|minuteCaloriesWide_merged     |Calories56               |0.94379997253418         |\n",
      "|minuteCaloriesWide_merged     |Calories57               |0.94379997253418         |\n",
      "|minuteCaloriesWide_merged     |Calories58               |0.94379997253418         |\n",
      "|minuteCaloriesWide_merged     |Calories59               |0.94379997253418         |\n",
      "|minuteIntensitiesNarrow_merged|Id                       |1503960366               |\n",
      "|minuteIntensitiesNarrow_merged|ActivityMinute           |4/12/2016 12:00:00 AM    |\n",
      "|minuteIntensitiesNarrow_merged|Intensity                |0                        |\n",
      "|minuteIntensitiesWide_merged  |Id                       |1503960366               |\n",
      "|minuteIntensitiesWide_merged  |ActivityHour             |4/13/2016 12:00:00 AM    |\n",
      "|minuteIntensitiesWide_merged  |Intensity00              |1                        |\n",
      "|minuteIntensitiesWide_merged  |Intensity01              |1                        |\n",
      "|minuteIntensitiesWide_merged  |Intensity02              |0                        |\n",
      "|minuteIntensitiesWide_merged  |Intensity03              |0                        |\n",
      "|minuteIntensitiesWide_merged  |Intensity04              |0                        |\n",
      "|minuteIntensitiesWide_merged  |Intensity05              |1                        |\n",
      "|minuteIntensitiesWide_merged  |Intensity06              |0                        |\n",
      "|minuteIntensitiesWide_merged  |Intensity07              |1                        |\n",
      "|minuteIntensitiesWide_merged  |Intensity08              |0                        |\n",
      "|minuteIntensitiesWide_merged  |Intensity09              |0                        |\n",
      "|minuteIntensitiesWide_merged  |Intensity10              |0                        |\n",
      "|minuteIntensitiesWide_merged  |Intensity11              |0                        |\n",
      "|minuteIntensitiesWide_merged  |Intensity12              |0                        |\n",
      "|minuteIntensitiesWide_merged  |Intensity13              |0                        |\n",
      "|minuteIntensitiesWide_merged  |Intensity14              |0                        |\n",
      "|minuteIntensitiesWide_merged  |Intensity15              |0                        |\n",
      "|minuteIntensitiesWide_merged  |Intensity16              |0                        |\n",
      "|minuteIntensitiesWide_merged  |Intensity17              |0                        |\n",
      "|minuteIntensitiesWide_merged  |Intensity18              |0                        |\n",
      "|minuteIntensitiesWide_merged  |Intensity19              |0                        |\n",
      "|minuteIntensitiesWide_merged  |Intensity20              |1                        |\n",
      "|minuteIntensitiesWide_merged  |Intensity21              |0                        |\n",
      "|minuteIntensitiesWide_merged  |Intensity22              |0                        |\n",
      "|minuteIntensitiesWide_merged  |Intensity23              |0                        |\n",
      "|minuteIntensitiesWide_merged  |Intensity24              |0                        |\n",
      "|minuteIntensitiesWide_merged  |Intensity25              |1                        |\n",
      "|minuteIntensitiesWide_merged  |Intensity26              |1                        |\n",
      "|minuteIntensitiesWide_merged  |Intensity27              |0                        |\n",
      "|minuteIntensitiesWide_merged  |Intensity28              |1                        |\n",
      "|minuteIntensitiesWide_merged  |Intensity29              |0                        |\n",
      "|minuteIntensitiesWide_merged  |Intensity30              |0                        |\n",
      "|minuteIntensitiesWide_merged  |Intensity31              |0                        |\n",
      "|minuteIntensitiesWide_merged  |Intensity32              |1                        |\n",
      "|minuteIntensitiesWide_merged  |Intensity33              |1                        |\n",
      "|minuteIntensitiesWide_merged  |Intensity34              |0                        |\n",
      "|minuteIntensitiesWide_merged  |Intensity35              |0                        |\n",
      "|minuteIntensitiesWide_merged  |Intensity36              |0                        |\n",
      "|minuteIntensitiesWide_merged  |Intensity37              |0                        |\n",
      "|minuteIntensitiesWide_merged  |Intensity38              |0                        |\n",
      "|minuteIntensitiesWide_merged  |Intensity39              |0                        |\n",
      "|minuteIntensitiesWide_merged  |Intensity40              |0                        |\n",
      "|minuteIntensitiesWide_merged  |Intensity41              |0                        |\n",
      "|minuteIntensitiesWide_merged  |Intensity42              |0                        |\n",
      "|minuteIntensitiesWide_merged  |Intensity43              |0                        |\n",
      "|minuteIntensitiesWide_merged  |Intensity44              |0                        |\n",
      "|minuteIntensitiesWide_merged  |Intensity45              |0                        |\n",
      "|minuteIntensitiesWide_merged  |Intensity46              |0                        |\n",
      "|minuteIntensitiesWide_merged  |Intensity47              |0                        |\n",
      "|minuteIntensitiesWide_merged  |Intensity48              |0                        |\n",
      "|minuteIntensitiesWide_merged  |Intensity49              |0                        |\n",
      "|minuteIntensitiesWide_merged  |Intensity50              |0                        |\n",
      "|minuteIntensitiesWide_merged  |Intensity51              |1                        |\n",
      "|minuteIntensitiesWide_merged  |Intensity52              |1                        |\n",
      "|minuteIntensitiesWide_merged  |Intensity53              |0                        |\n",
      "|minuteIntensitiesWide_merged  |Intensity54              |1                        |\n",
      "|minuteIntensitiesWide_merged  |Intensity55              |1                        |\n",
      "|minuteIntensitiesWide_merged  |Intensity56              |0                        |\n",
      "|minuteIntensitiesWide_merged  |Intensity57              |0                        |\n",
      "|minuteIntensitiesWide_merged  |Intensity58              |0                        |\n",
      "|minuteIntensitiesWide_merged  |Intensity59              |0                        |\n",
      "|minuteMETsNarrow_merged       |Id                       |1503960366               |\n",
      "|minuteMETsNarrow_merged       |ActivityMinute           |4/12/2016 12:00:00 AM    |\n",
      "|minuteMETsNarrow_merged       |METs                     |10                       |\n",
      "|minuteSleep_merged            |Id                       |1503960366               |\n",
      "|minuteSleep_merged            |date                     |4/12/2016 2:47:30 AM     |\n",
      "|minuteSleep_merged            |value                    |3                        |\n",
      "|minuteSleep_merged            |logId                    |11380564589              |\n",
      "|minuteStepsNarrow_merged      |Id                       |1503960366               |\n",
      "|minuteStepsNarrow_merged      |ActivityMinute           |4/12/2016 12:00:00 AM    |\n",
      "|minuteStepsNarrow_merged      |Steps                    |0                        |\n",
      "|minuteStepsWide_merged        |Id                       |1503960366               |\n",
      "|minuteStepsWide_merged        |ActivityHour             |4/13/2016 12:00:00 AM    |\n",
      "|minuteStepsWide_merged        |Steps00                  |4                        |\n",
      "|minuteStepsWide_merged        |Steps01                  |16                       |\n",
      "|minuteStepsWide_merged        |Steps02                  |0                        |\n",
      "|minuteStepsWide_merged        |Steps03                  |0                        |\n",
      "|minuteStepsWide_merged        |Steps04                  |0                        |\n",
      "|minuteStepsWide_merged        |Steps05                  |9                        |\n",
      "|minuteStepsWide_merged        |Steps06                  |0                        |\n",
      "|minuteStepsWide_merged        |Steps07                  |17                       |\n",
      "|minuteStepsWide_merged        |Steps08                  |0                        |\n",
      "|minuteStepsWide_merged        |Steps09                  |0                        |\n",
      "|minuteStepsWide_merged        |Steps10                  |0                        |\n",
      "|minuteStepsWide_merged        |Steps11                  |0                        |\n",
      "|minuteStepsWide_merged        |Steps12                  |0                        |\n",
      "|minuteStepsWide_merged        |Steps13                  |0                        |\n",
      "|minuteStepsWide_merged        |Steps14                  |0                        |\n",
      "|minuteStepsWide_merged        |Steps15                  |0                        |\n",
      "|minuteStepsWide_merged        |Steps16                  |0                        |\n",
      "|minuteStepsWide_merged        |Steps17                  |0                        |\n",
      "|minuteStepsWide_merged        |Steps18                  |0                        |\n",
      "|minuteStepsWide_merged        |Steps19                  |0                        |\n",
      "|minuteStepsWide_merged        |Steps20                  |6                        |\n",
      "|minuteStepsWide_merged        |Steps21                  |0                        |\n",
      "|minuteStepsWide_merged        |Steps22                  |0                        |\n",
      "|minuteStepsWide_merged        |Steps23                  |0                        |\n",
      "|minuteStepsWide_merged        |Steps24                  |0                        |\n",
      "|minuteStepsWide_merged        |Steps25                  |11                       |\n",
      "|minuteStepsWide_merged        |Steps26                  |21                       |\n",
      "|minuteStepsWide_merged        |Steps27                  |0                        |\n",
      "|minuteStepsWide_merged        |Steps28                  |8                        |\n",
      "|minuteStepsWide_merged        |Steps29                  |0                        |\n",
      "|minuteStepsWide_merged        |Steps30                  |0                        |\n",
      "|minuteStepsWide_merged        |Steps31                  |0                        |\n",
      "|minuteStepsWide_merged        |Steps32                  |8                        |\n",
      "|minuteStepsWide_merged        |Steps33                  |6                        |\n",
      "|minuteStepsWide_merged        |Steps34                  |0                        |\n",
      "|minuteStepsWide_merged        |Steps35                  |0                        |\n",
      "|minuteStepsWide_merged        |Steps36                  |0                        |\n",
      "|minuteStepsWide_merged        |Steps37                  |0                        |\n",
      "|minuteStepsWide_merged        |Steps38                  |0                        |\n",
      "|minuteStepsWide_merged        |Steps39                  |0                        |\n",
      "|minuteStepsWide_merged        |Steps40                  |0                        |\n",
      "|minuteStepsWide_merged        |Steps41                  |0                        |\n",
      "|minuteStepsWide_merged        |Steps42                  |0                        |\n",
      "|minuteStepsWide_merged        |Steps43                  |0                        |\n",
      "|minuteStepsWide_merged        |Steps44                  |0                        |\n",
      "|minuteStepsWide_merged        |Steps45                  |0                        |\n",
      "|minuteStepsWide_merged        |Steps46                  |0                        |\n",
      "|minuteStepsWide_merged        |Steps47                  |0                        |\n",
      "|minuteStepsWide_merged        |Steps48                  |0                        |\n",
      "|minuteStepsWide_merged        |Steps49                  |0                        |\n",
      "|minuteStepsWide_merged        |Steps50                  |0                        |\n",
      "|minuteStepsWide_merged        |Steps51                  |9                        |\n",
      "|minuteStepsWide_merged        |Steps52                  |8                        |\n",
      "|minuteStepsWide_merged        |Steps53                  |0                        |\n",
      "|minuteStepsWide_merged        |Steps54                  |20                       |\n",
      "|minuteStepsWide_merged        |Steps55                  |1                        |\n",
      "|minuteStepsWide_merged        |Steps56                  |0                        |\n",
      "|minuteStepsWide_merged        |Steps57                  |0                        |\n",
      "|minuteStepsWide_merged        |Steps58                  |0                        |\n",
      "|minuteStepsWide_merged        |Steps59                  |0                        |\n",
      "|sleepDay_merged               |Id                       |1503960366               |\n",
      "|sleepDay_merged               |SleepDay                 |4/12/2016 12:00:00 AM    |\n",
      "|sleepDay_merged               |TotalSleepRecords        |1                        |\n",
      "|sleepDay_merged               |TotalMinutesAsleep       |327                      |\n",
      "|sleepDay_merged               |TotalTimeInBed           |346                      |\n",
      "|weightLogInfo_merged          |Id                       |1503960366               |\n",
      "|weightLogInfo_merged          |Date                     |5/2/2016 11:59:59 PM     |\n",
      "|weightLogInfo_merged          |WeightKg                 |52.5999984741211         |\n",
      "|weightLogInfo_merged          |WeightPounds             |115.963146545323         |\n",
      "|weightLogInfo_merged          |Fat                      |22                       |\n",
      "|weightLogInfo_merged          |BMI                      |22.6499996185303         |\n",
      "|weightLogInfo_merged          |IsManualReport           |True                     |\n",
      "|weightLogInfo_merged          |LogId                    |1462233599000            |\n",
      "|minute4                       |Id                       |1503960366               |\n",
      "|minute4                       |ActivityMinute           |4/13/2016 8:10:00 PM     |\n",
      "|minute4                       |Calories                 |0.786499977111816        |\n",
      "|minute4                       |Intensity                |0                        |\n",
      "|minute4                       |METs                     |10                       |\n",
      "|minute4                       |Steps                    |0                        |\n",
      "|minute4                       |value                    |1                        |\n",
      "|minute4                       |logId                    |11388770716              |\n"
     ]
    }
   ],
   "source": [
    "# get tables and get column name and example data:\n",
    "get_table_col_example(cur)"
   ]
  },
  {
   "cell_type": "code",
   "execution_count": 9,
   "id": "80fab186",
   "metadata": {
    "ExecuteTime": {
     "end_time": "2022-02-20T10:09:04.191937Z",
     "start_time": "2022-02-20T10:09:04.176977Z"
    }
   },
   "outputs": [
    {
     "name": "stdout",
     "output_type": "stream",
     "text": [
      "How many tables have date or time columns: [(18,)]\n"
     ]
    }
   ],
   "source": [
    "# lets see if each table has a date or time column:\n",
    "datetime_query = \"\"\"\n",
    "SELECT \n",
    "  COUNT(*) AS num_tables_w_datetime\n",
    "FROM \n",
    "  sqlite_master AS m\n",
    "JOIN \n",
    "  pragma_table_info(m.name) AS p\n",
    "WHERE\n",
    "  p.type IN ('DATE', 'TIME', 'DATETIME')\n",
    "ORDER BY \n",
    "  m.name, \n",
    "  p.cid;\n",
    "\"\"\"\n",
    "\n",
    "cur.execute(datetime_query)\n",
    "print(\"How many tables have date or time columns:\", cur.fetchall())"
   ]
  },
  {
   "cell_type": "code",
   "execution_count": 10,
   "id": "879c1c5a",
   "metadata": {
    "ExecuteTime": {
     "end_time": "2022-02-20T10:09:04.206896Z",
     "start_time": "2022-02-20T10:09:04.192934Z"
    }
   },
   "outputs": [
    {
     "name": "stdout",
     "output_type": "stream",
     "text": [
      "Here are the tables, along with names of the date/time columns:\n",
      "[('dailyActivity_merged', 'ActivityDate'),\n",
      " ('dailyCalories_merged', 'ActivityDay'),\n",
      " ('dailyIntensities_merged', 'ActivityDay'),\n",
      " ('dailySteps_merged', 'ActivityDay'),\n",
      " ('heartrate_seconds_merged', 'Time'),\n",
      " ('hourlyCalories_merged', 'ActivityHour'),\n",
      " ('hourlyIntensities_merged', 'ActivityHour'),\n",
      " ('hourlySteps_merged', 'ActivityHour'),\n",
      " ('minuteCaloriesNarrow_merged', 'ActivityMinute'),\n",
      " ('minuteCaloriesWide_merged', 'ActivityHour'),\n",
      " ('minuteIntensitiesNarrow_merged', 'ActivityMinute'),\n",
      " ('minuteIntensitiesWide_merged', 'ActivityHour'),\n",
      " ('minuteMETsNarrow_merged', 'ActivityMinute'),\n",
      " ('minuteSleep_merged', 'date'),\n",
      " ('minuteStepsNarrow_merged', 'ActivityMinute'),\n",
      " ('minuteStepsWide_merged', 'ActivityHour'),\n",
      " ('sleepDay_merged', 'SleepDay'),\n",
      " ('weightLogInfo_merged', 'Date')]\n"
     ]
    }
   ],
   "source": [
    "# what are the column names of the time columns?\n",
    "datetime_query_two = \"\"\"\n",
    "SELECT m.name, p.name\n",
    "FROM \n",
    "  sqlite_master AS m\n",
    "JOIN \n",
    "  pragma_table_info(m.name) AS p\n",
    "WHERE\n",
    "  p.type IN ('DATE', 'TIME', 'DATETIME')\n",
    "ORDER BY \n",
    "  m.name, \n",
    "  p.cid;\n",
    "\"\"\"\n",
    "\n",
    "cur.execute(datetime_query_two)\n",
    "print(\"Here are the tables, along with names of the date/time columns:\")\n",
    "pprint(cur.fetchall())"
   ]
  },
  {
   "cell_type": "markdown",
   "id": "1a83fe7a",
   "metadata": {},
   "source": [
    "`ActivityDate` from the table `dailyActivity_merged` is the first of many exceptions to how this data is formatted. Lets take a peek:"
   ]
  },
  {
   "cell_type": "code",
   "execution_count": 11,
   "id": "0f73b3ce",
   "metadata": {
    "ExecuteTime": {
     "end_time": "2022-02-20T10:09:04.221856Z",
     "start_time": "2022-02-20T10:09:04.207894Z"
    }
   },
   "outputs": [
    {
     "name": "stdout",
     "output_type": "stream",
     "text": [
      "[('4/12/2016',), ('4/13/2016',), ('4/14/2016',), ('4/15/2016',), ('4/16/2016',)]\n"
     ]
    }
   ],
   "source": [
    "datetime_head_query = \"\"\"\n",
    "SELECT ActivityDate FROM dailyActivity_merged LIMIT 5;\n",
    "\n",
    "\"\"\"\n",
    "\n",
    "cur.execute(datetime_head_query)\n",
    "pprint(cur.fetchall())"
   ]
  },
  {
   "cell_type": "markdown",
   "id": "e3395914",
   "metadata": {},
   "source": [
    "It seems that `ActivityDate` is just mm/dd/yyyy.  \n",
    "Lets see what happens when we only want daily tables from our dataset."
   ]
  },
  {
   "cell_type": "code",
   "execution_count": 12,
   "id": "fc2e81b0",
   "metadata": {
    "ExecuteTime": {
     "end_time": "2022-02-20T10:09:04.236817Z",
     "start_time": "2022-02-20T10:09:04.223852Z"
    }
   },
   "outputs": [
    {
     "name": "stdout",
     "output_type": "stream",
     "text": [
      "Here are the DAILY tables:\n",
      "[('dailyActivity_merged',),\n",
      " ('dailyCalories_merged',),\n",
      " ('dailyIntensities_merged',),\n",
      " ('dailySteps_merged',),\n",
      " ('sleepDay_merged',)]\n"
     ]
    }
   ],
   "source": [
    "get_daily_tables_query = \"\"\"\n",
    "SELECT m.name\n",
    "FROM \n",
    "  sqlite_master AS m\n",
    "JOIN \n",
    "  pragma_table_info(m.name) AS p\n",
    "WHERE\n",
    "  INSTR(LOWER(m.name), 'day') OR\n",
    "  INSTR(LOWER(m.name), 'daily')\n",
    "GROUP BY\n",
    "  m.name;\n",
    "\"\"\"\n",
    "\n",
    "cur.execute(get_daily_tables_query)\n",
    "print(\"Here are the DAILY tables:\")\n",
    "pprint(cur.fetchall())"
   ]
  },
  {
   "cell_type": "markdown",
   "id": "0f166f10",
   "metadata": {},
   "source": [
    "Let's see what columns are shared across the daily tables:"
   ]
  },
  {
   "cell_type": "code",
   "execution_count": 13,
   "id": "3758003a",
   "metadata": {
    "ExecuteTime": {
     "end_time": "2022-02-20T10:09:04.252775Z",
     "start_time": "2022-02-20T10:09:04.237814Z"
    }
   },
   "outputs": [
    {
     "name": "stdout",
     "output_type": "stream",
     "text": [
      "Columns similar across our DAILY tables include: [('Id', 'INT')]\n"
     ]
    }
   ],
   "source": [
    "similar_daily_cols_query = \"\"\"\n",
    "WITH dailyTables AS (\n",
    "SELECT m.name\n",
    "FROM \n",
    "  sqlite_master AS m\n",
    "JOIN \n",
    "  pragma_table_info(m.name) AS p\n",
    "WHERE\n",
    "  INSTR(LOWER(m.name), 'day') OR\n",
    "  INSTR(LOWER(m.name), 'daily')\n",
    "GROUP BY\n",
    "  m.name\n",
    ")\n",
    "SELECT col AS columns, type AS dtype\n",
    "FROM (\n",
    "    SELECT pti.name AS col, pti.type AS type\n",
    "    FROM dailyTables AS t CROSS JOIN pragma_table_info(t.name) AS pti\n",
    "    GROUP BY col\n",
    "    HAVING COUNT(*) = (SELECT COUNT(*) FROM dailyTables)\n",
    ");\n",
    "\"\"\"\n",
    "\n",
    "cur.execute(similar_daily_cols_query)\n",
    "print(\"Columns similar across our DAILY tables include:\", cur.fetchall())"
   ]
  },
  {
   "cell_type": "markdown",
   "id": "48dc163c",
   "metadata": {},
   "source": [
    "Let's gather the same info about the `hourly` and `minute` columns:"
   ]
  },
  {
   "cell_type": "code",
   "execution_count": 14,
   "id": "e51f48ae",
   "metadata": {
    "ExecuteTime": {
     "end_time": "2022-02-20T10:09:04.267734Z",
     "start_time": "2022-02-20T10:09:04.253772Z"
    }
   },
   "outputs": [
    {
     "name": "stdout",
     "output_type": "stream",
     "text": [
      "Here are the HOURLY tables:\n",
      "[('hourlyCalories_merged',),\n",
      " ('hourlyIntensities_merged',),\n",
      " ('hourlySteps_merged',)]\n",
      "Columns similar across ALL HOURLY tables include: [('ActivityHour', 'DATETIME'), ('Id', 'INT')]\n",
      "\n",
      "\n",
      "Here are the MINUTE tables:\n",
      "[('minute4',),\n",
      " ('minuteCaloriesNarrow_merged',),\n",
      " ('minuteCaloriesWide_merged',),\n",
      " ('minuteIntensitiesNarrow_merged',),\n",
      " ('minuteIntensitiesWide_merged',),\n",
      " ('minuteMETsNarrow_merged',),\n",
      " ('minuteSleep_merged',),\n",
      " ('minuteStepsNarrow_merged',),\n",
      " ('minuteStepsWide_merged',)]\n",
      "Columns similar across ALL MINUTE tables include: [('Id', 'INT')]\n"
     ]
    }
   ],
   "source": [
    "# hourly\n",
    "get_hourly_tables_query = \"\"\"\n",
    "SELECT m.name\n",
    "FROM \n",
    "  sqlite_master AS m\n",
    "JOIN \n",
    "  pragma_table_info(m.name) AS p\n",
    "WHERE\n",
    "  INSTR(LOWER(m.name), 'hourly')\n",
    "GROUP BY\n",
    "  m.name;\n",
    "\"\"\"\n",
    "cur.execute(get_hourly_tables_query)\n",
    "print(\"Here are the HOURLY tables:\")\n",
    "pprint(cur.fetchall())\n",
    "\n",
    "# common columns across hourly tables:\n",
    "similar_hourly_cols_query = \"\"\"\n",
    "WITH hourlyTables AS (\n",
    "SELECT m.name\n",
    "FROM \n",
    "  sqlite_master AS m\n",
    "JOIN \n",
    "  pragma_table_info(m.name) AS p\n",
    "WHERE\n",
    "  INSTR(LOWER(m.name), 'hourly')\n",
    "GROUP BY\n",
    "  m.name\n",
    ")\n",
    "SELECT col AS columns, type AS dtype\n",
    "FROM (\n",
    "    SELECT pti.name AS col, pti.type AS type\n",
    "    FROM hourlyTables AS t CROSS JOIN pragma_table_info(t.name) AS pti\n",
    "    GROUP BY col\n",
    "    HAVING COUNT(*) = (SELECT COUNT(*) FROM hourlyTables)\n",
    ");\n",
    "\"\"\"\n",
    "cur.execute(similar_hourly_cols_query)\n",
    "print(\"Columns similar across ALL HOURLY tables include:\", cur.fetchall())\n",
    "\n",
    "\n",
    "# minute\n",
    "get_minute_tables_query = \"\"\"\n",
    "SELECT m.name\n",
    "FROM \n",
    "  sqlite_master AS m\n",
    "JOIN \n",
    "  pragma_table_info(m.name) AS p\n",
    "WHERE\n",
    "  INSTR(LOWER(m.name), 'minute')\n",
    "GROUP BY\n",
    "  m.name;\n",
    "\"\"\"\n",
    "cur.execute(get_minute_tables_query)\n",
    "print(\"\\n\\nHere are the MINUTE tables:\")\n",
    "pprint(cur.fetchall())\n",
    "\n",
    "# common columns across hourly tables:\n",
    "similar_minute_cols_query = \"\"\"\n",
    "WITH minuteTables AS (\n",
    "SELECT m.name\n",
    "FROM \n",
    "  sqlite_master AS m\n",
    "JOIN \n",
    "  pragma_table_info(m.name) AS p\n",
    "WHERE\n",
    "  INSTR(LOWER(m.name), 'minute')\n",
    "GROUP BY\n",
    "  m.name\n",
    ")\n",
    "SELECT col AS columns, type AS dtype\n",
    "FROM (\n",
    "    SELECT pti.name AS col, pti.type AS type\n",
    "    FROM minuteTables AS t CROSS JOIN pragma_table_info(t.name) AS pti\n",
    "    GROUP BY col\n",
    "    HAVING COUNT(*) = (SELECT COUNT(*) FROM minuteTables)\n",
    ");\n",
    "\"\"\"\n",
    "cur.execute(similar_minute_cols_query)\n",
    "print(\"Columns similar across ALL MINUTE tables include:\", cur.fetchall())"
   ]
  },
  {
   "cell_type": "markdown",
   "id": "9ec31874",
   "metadata": {},
   "source": [
    "### Creating A `Daily` Table\n",
    "Now, welook at similar columns between dailyActivity_merged and dailyCalories_merged. Then, we use those columns to join those tables into a new table, `daily`, which we will be adding all of our daily data to.  \n",
    "*NOTE:* Both tables have a date column, activityDate and activityDay, which we can also join on. These columns however do not show up on the similar columns query."
   ]
  },
  {
   "cell_type": "code",
   "execution_count": 15,
   "id": "5d63769c",
   "metadata": {
    "ExecuteTime": {
     "end_time": "2022-02-20T10:09:04.298651Z",
     "start_time": "2022-02-20T10:09:04.268733Z"
    }
   },
   "outputs": [
    {
     "name": "stdout",
     "output_type": "stream",
     "text": [
      "`dailyActivity_merged` table cols:\n",
      "[('ActivityDate', 'DATE'),\n",
      " ('Calories', 'INT'),\n",
      " ('FairlyActiveMinutes', 'INT'),\n",
      " ('Id', 'INT'),\n",
      " ('LightActiveDistance', 'DEC(5,5)'),\n",
      " ('LightlyActiveMinutes', 'INT'),\n",
      " ('LoggedActivitiesDistance', 'DEC(5,5)'),\n",
      " ('ModeratelyActiveDistance', 'DEC(5,5)'),\n",
      " ('SedentaryActiveDistance', 'DEC(5,5)'),\n",
      " ('SedentaryMinutes', 'INT'),\n",
      " ('TotalDistance', 'DEC(5,5)'),\n",
      " ('TotalSteps', 'INT'),\n",
      " ('TrackerDistance', 'DEC(5,5)'),\n",
      " ('VeryActiveDistance', 'DEC(5,5)'),\n",
      " ('VeryActiveMinutes', 'INT')]\n",
      "`dailyCalories_merged` table cols:\n",
      "[('ActivityDay', 'DATE'), ('Calories', 'INT'), ('Id', 'INT')]\n",
      "Similar columns across dailyActivity_merged and dailyCalories_merged: [('Calories', 'INT'), ('Id', 'INT')]\n",
      "created table: `daily`. []\n",
      "`daily` table cols:\n",
      "[('ActivityDate', 'NUM'),\n",
      " ('Calories', 'INT'),\n",
      " ('FairlyActiveMinutes', 'INT'),\n",
      " ('Id', 'INT'),\n",
      " ('LightActiveDistance', 'NUM'),\n",
      " ('LightlyActiveMinutes', 'INT'),\n",
      " ('LoggedActivitiesDistance', 'NUM'),\n",
      " ('ModeratelyActiveDistance', 'NUM'),\n",
      " ('SedentaryActiveDistance', 'NUM'),\n",
      " ('SedentaryMinutes', 'INT'),\n",
      " ('TotalDistance', 'NUM'),\n",
      " ('TotalSteps', 'INT'),\n",
      " ('TrackerDistance', 'NUM'),\n",
      " ('VeryActiveDistance', 'NUM'),\n",
      " ('VeryActiveMinutes', 'INT')]\n"
     ]
    }
   ],
   "source": [
    "get_table_cols_with_dtypes(cur, \"dailyActivity_merged\")\n",
    "get_table_cols_with_dtypes(cur, \"dailyCalories_merged\")\n",
    "\n",
    "# look at similar columns between dailyActivity_merged and dailyCalories_merged:\n",
    "similar_query = \"\"\"\n",
    "WITH twotables AS (\n",
    "SELECT m.name\n",
    "FROM \n",
    "  sqlite_master AS m\n",
    "JOIN \n",
    "  pragma_table_info(m.name) AS p\n",
    "WHERE\n",
    "  m.name IN (\"dailyActivity_merged\", \"dailyCalories_merged\")\n",
    "GROUP BY\n",
    "  m.name\n",
    ")\n",
    "SELECT col AS columns, type AS dtype\n",
    "FROM (\n",
    "    SELECT pti.name AS col, pti.type AS type\n",
    "    FROM twotables AS t CROSS JOIN pragma_table_info(t.name) AS pti\n",
    "    GROUP BY col\n",
    "    HAVING COUNT(t.name) >=2\n",
    ");\n",
    "\"\"\"\n",
    "cur.execute(similar_query)\n",
    "print(\"Similar columns across dailyActivity_merged and dailyCalories_merged:\", cur.fetchall())\n",
    "\n",
    "# now we can join those two into one table:\n",
    "create_daily_table_script = \"\"\"\n",
    "CREATE TABLE IF NOT EXISTS daily AS\n",
    "    SELECT\n",
    "        a.*\n",
    "    FROM\n",
    "        dailyActivity_merged AS a\n",
    "    INNER JOIN\n",
    "        dailyCalories_merged AS c\n",
    "    ON\n",
    "        a.Id = c.Id AND\n",
    "        a.ActivityDate = c.ActivityDay AND\n",
    "        a.Calories = c.Calories;\n",
    "\"\"\"\n",
    "cur.executescript(create_daily_table_script)\n",
    "print(\"created table: `daily`.\", cur.fetchall())\n",
    "\n",
    "get_new_table_cols = \"\"\"\n",
    "WITH minuteTables AS (\n",
    "SELECT m.name\n",
    "FROM \n",
    "  sqlite_master AS m\n",
    "JOIN \n",
    "  pragma_table_info(m.name) AS p\n",
    "WHERE\n",
    "  m.name = 'daily'\n",
    "GROUP BY\n",
    "  m.name\n",
    ")\n",
    "SELECT col AS columns, type AS dtype\n",
    "FROM (\n",
    "    SELECT pti.name AS col, pti.type AS type\n",
    "    FROM minuteTables AS t CROSS JOIN pragma_table_info(t.name) AS pti\n",
    "    GROUP BY col\n",
    ");\"\"\"\n",
    "\n",
    "cur.execute(get_new_table_cols)\n",
    "print(\"`daily` table cols:\")\n",
    "pprint(cur.fetchall())"
   ]
  },
  {
   "cell_type": "markdown",
   "id": "9b4e628d",
   "metadata": {
    "ExecuteTime": {
     "end_time": "2022-02-20T06:10:22.496146Z",
     "start_time": "2022-02-20T06:10:22.467716Z"
    }
   },
   "source": [
    "Now we add dailyIntensities_merged to our daily table. We will follow the same process as before, finding which cols they share, and then joining on those columns.  \n",
    "*NOTE:* They both share a date column as ActivityDate and ActivityDay."
   ]
  },
  {
   "cell_type": "code",
   "execution_count": 16,
   "id": "62ea2604",
   "metadata": {
    "ExecuteTime": {
     "end_time": "2022-02-20T10:09:04.330566Z",
     "start_time": "2022-02-20T10:09:04.299649Z"
    }
   },
   "outputs": [
    {
     "name": "stdout",
     "output_type": "stream",
     "text": [
      "`dailyIntensities_merged` table cols:\n",
      "[('ActivityDay', 'DATE'),\n",
      " ('FairlyActiveMinutes', 'INT'),\n",
      " ('Id', 'INT'),\n",
      " ('LightActiveDistance', 'DEC(5,5)'),\n",
      " ('LightlyActiveMinutes', 'INT'),\n",
      " ('ModeratelyActiveDistance', 'DEC(5,5)'),\n",
      " ('SedentaryActiveDistance', 'DEC(5,5)'),\n",
      " ('SedentaryMinutes', 'INT'),\n",
      " ('VeryActiveDistance', 'DEC(5,5)'),\n",
      " ('VeryActiveMinutes', 'INT')]\n",
      "`daily` table cols:\n",
      "[('ActivityDate', 'NUM'),\n",
      " ('Calories', 'INT'),\n",
      " ('FairlyActiveMinutes', 'INT'),\n",
      " ('Id', 'INT'),\n",
      " ('LightActiveDistance', 'NUM'),\n",
      " ('LightlyActiveMinutes', 'INT'),\n",
      " ('LoggedActivitiesDistance', 'NUM'),\n",
      " ('ModeratelyActiveDistance', 'NUM'),\n",
      " ('SedentaryActiveDistance', 'NUM'),\n",
      " ('SedentaryMinutes', 'INT'),\n",
      " ('TotalDistance', 'NUM'),\n",
      " ('TotalSteps', 'INT'),\n",
      " ('TrackerDistance', 'NUM'),\n",
      " ('VeryActiveDistance', 'NUM'),\n",
      " ('VeryActiveMinutes', 'INT')]\n",
      "Similar columns across dailyIntensities_merged  and daily:\n",
      "[('FairlyActiveMinutes', 'INT'),\n",
      " ('Id', 'INT'),\n",
      " ('LightActiveDistance', 'NUM'),\n",
      " ('LightlyActiveMinutes', 'INT'),\n",
      " ('ModeratelyActiveDistance', 'NUM'),\n",
      " ('SedentaryActiveDistance', 'NUM'),\n",
      " ('SedentaryMinutes', 'INT'),\n",
      " ('VeryActiveDistance', 'NUM'),\n",
      " ('VeryActiveMinutes', 'INT')]\n",
      "created table: `daily2`. []\n",
      "`daily2` table cols:\n",
      "[('ActivityDate', 'NUM'),\n",
      " ('Calories', 'INT'),\n",
      " ('FairlyActiveMinutes', 'INT'),\n",
      " ('Id', 'INT'),\n",
      " ('LightActiveDistance', 'NUM'),\n",
      " ('LightlyActiveMinutes', 'INT'),\n",
      " ('LoggedActivitiesDistance', 'NUM'),\n",
      " ('ModeratelyActiveDistance', 'NUM'),\n",
      " ('SedentaryActiveDistance', 'NUM'),\n",
      " ('SedentaryMinutes', 'INT'),\n",
      " ('TotalDistance', 'NUM'),\n",
      " ('TotalSteps', 'INT'),\n",
      " ('TrackerDistance', 'NUM'),\n",
      " ('VeryActiveDistance', 'NUM'),\n",
      " ('VeryActiveMinutes', 'INT')]\n"
     ]
    }
   ],
   "source": [
    "get_table_cols_with_dtypes(cur, \"dailyIntensities_merged\")\n",
    "get_table_cols_with_dtypes(cur, \"daily\")\n",
    "\n",
    "# look at similar columns between dailyIntensities_merged  and daily:\n",
    "similar_query = \"\"\"\n",
    "WITH twotables AS (\n",
    "SELECT m.name\n",
    "FROM \n",
    "  sqlite_master AS m\n",
    "JOIN \n",
    "  pragma_table_info(m.name) AS p\n",
    "WHERE\n",
    "  m.name IN (\"dailyIntensities_merged\", \"daily\")\n",
    "GROUP BY\n",
    "  m.name\n",
    ")\n",
    "SELECT col AS columns, type AS dtype\n",
    "FROM (\n",
    "    SELECT pti.name AS col, pti.type AS type\n",
    "    FROM twotables AS t CROSS JOIN pragma_table_info(t.name) AS pti\n",
    "    GROUP BY col\n",
    "    HAVING COUNT(t.name) >=2\n",
    ");\n",
    "\"\"\"\n",
    "cur.execute(similar_query)\n",
    "print(\"Similar columns across dailyIntensities_merged  and daily:\")\n",
    "pprint(cur.fetchall())\n",
    "\n",
    "# now we can join those two into one table:\n",
    "create_daily_table_script = \"\"\"\n",
    "CREATE TABLE IF NOT EXISTS daily2 AS\n",
    "    SELECT\n",
    "        d.*\n",
    "    FROM\n",
    "        daily AS d\n",
    "    JOIN\n",
    "        dailyIntensities_merged AS i\n",
    "    ON\n",
    "        d.Id = i.Id AND\n",
    "        d.ActivityDate = i.ActivityDay AND\n",
    "        d.FairlyActiveMinutes = i.FairlyActiveMinutes AND\n",
    "        d.LightActiveDistance = i.LightActiveDistance AND\n",
    "        d.LightlyActiveMinutes = i.LightlyActiveMinutes AND\n",
    "        d.ModeratelyActiveDistance = i.ModeratelyActiveDistance AND\n",
    "        d.SedentaryActiveDistance = i.SedentaryActiveDistance AND\n",
    "        d.SedentaryMinutes = i.SedentaryMinutes AND\n",
    "        d.VeryActiveDistance = i.VeryActiveDistance AND\n",
    "        d.VeryActiveMinutes = i.VeryActiveMinutes;\n",
    "\"\"\"\n",
    "cur.executescript(create_daily_table_script)\n",
    "print(\"created table: `daily2`.\", cur.fetchall())\n",
    "\n",
    "get_table_cols_with_dtypes(cur, \"daily2\")"
   ]
  },
  {
   "cell_type": "markdown",
   "id": "910e205d",
   "metadata": {},
   "source": [
    "Let's check the number of rows for each table:"
   ]
  },
  {
   "cell_type": "code",
   "execution_count": 17,
   "id": "8c412e2c",
   "metadata": {
    "ExecuteTime": {
     "end_time": "2022-02-20T10:09:04.564939Z",
     "start_time": "2022-02-20T10:09:04.331563Z"
    }
   },
   "outputs": [
    {
     "name": "stdout",
     "output_type": "stream",
     "text": [
      "Number of rows in each table:\n",
      "daily                                  [(940,)]\n",
      "daily2                                 [(940,)]\n",
      "dailyActivity_merged                   [(940,)]\n",
      "dailyCalories_merged                   [(940,)]\n",
      "dailyIntensities_merged                [(940,)]\n",
      "dailySteps_merged                      [(940,)]\n",
      "heartrate_seconds_merged           [(2483658,)]\n",
      "hourlyCalories_merged                [(22099,)]\n",
      "hourlyIntensities_merged             [(22099,)]\n",
      "hourlySteps_merged                   [(22099,)]\n",
      "minute4                             [(125903,)]\n",
      "minuteCaloriesNarrow_merged        [(1325580,)]\n",
      "minuteCaloriesWide_merged            [(21645,)]\n",
      "minuteIntensitiesNarrow_merged     [(1325580,)]\n",
      "minuteIntensitiesWide_merged         [(21645,)]\n",
      "minuteMETsNarrow_merged            [(1325580,)]\n",
      "minuteSleep_merged                  [(188521,)]\n",
      "minuteStepsNarrow_merged           [(1325580,)]\n",
      "minuteStepsWide_merged               [(21645,)]\n",
      "sleepDay_merged                        [(413,)]\n",
      "weightLogInfo_merged                    [(67,)]\n"
     ]
    }
   ],
   "source": [
    "get_tables_with_num_rows(cur)"
   ]
  },
  {
   "cell_type": "markdown",
   "id": "7a36f39a",
   "metadata": {
    "ExecuteTime": {
     "end_time": "2022-02-20T06:39:35.780398Z",
     "start_time": "2022-02-20T06:39:35.749467Z"
    }
   },
   "source": [
    "Now we add dailySteps_merged to our daily2 table. We will follow the same process as before, finding which cols they share, and then joining on those columns.  \n",
    "*NOTE:* They both share a date column as ActivityDate and ActivityDay, and a steps column as TotalSteps and StepTotal respectively."
   ]
  },
  {
   "cell_type": "code",
   "execution_count": 18,
   "id": "29adbf75",
   "metadata": {
    "ExecuteTime": {
     "end_time": "2022-02-20T10:09:04.596363Z",
     "start_time": "2022-02-20T10:09:04.565937Z"
    }
   },
   "outputs": [
    {
     "name": "stdout",
     "output_type": "stream",
     "text": [
      "`dailySteps_merged` table cols:\n",
      "[('ActivityDay', 'DATE'), ('Id', 'INT'), ('StepTotal', 'INT')]\n",
      "`daily2` table cols:\n",
      "[('ActivityDate', 'NUM'),\n",
      " ('Calories', 'INT'),\n",
      " ('FairlyActiveMinutes', 'INT'),\n",
      " ('Id', 'INT'),\n",
      " ('LightActiveDistance', 'NUM'),\n",
      " ('LightlyActiveMinutes', 'INT'),\n",
      " ('LoggedActivitiesDistance', 'NUM'),\n",
      " ('ModeratelyActiveDistance', 'NUM'),\n",
      " ('SedentaryActiveDistance', 'NUM'),\n",
      " ('SedentaryMinutes', 'INT'),\n",
      " ('TotalDistance', 'NUM'),\n",
      " ('TotalSteps', 'INT'),\n",
      " ('TrackerDistance', 'NUM'),\n",
      " ('VeryActiveDistance', 'NUM'),\n",
      " ('VeryActiveMinutes', 'INT')]\n",
      "Similar columns across dailySteps_merged and daily2:\n",
      "[('Id', 'INT')]\n",
      "created table: `daily3`. []\n",
      "`daily3` table cols:\n",
      "[('ActivityDate', 'NUM'),\n",
      " ('Calories', 'INT'),\n",
      " ('FairlyActiveMinutes', 'INT'),\n",
      " ('Id', 'INT'),\n",
      " ('LightActiveDistance', 'NUM'),\n",
      " ('LightlyActiveMinutes', 'INT'),\n",
      " ('LoggedActivitiesDistance', 'NUM'),\n",
      " ('ModeratelyActiveDistance', 'NUM'),\n",
      " ('SedentaryActiveDistance', 'NUM'),\n",
      " ('SedentaryMinutes', 'INT'),\n",
      " ('TotalDistance', 'NUM'),\n",
      " ('TotalSteps', 'INT'),\n",
      " ('TrackerDistance', 'NUM'),\n",
      " ('VeryActiveDistance', 'NUM'),\n",
      " ('VeryActiveMinutes', 'INT')]\n"
     ]
    }
   ],
   "source": [
    "get_table_cols_with_dtypes(cur, \"dailySteps_merged\")\n",
    "get_table_cols_with_dtypes(cur, \"daily2\")\n",
    "\n",
    "# look at similar columns between dailySteps_merged  and daily2:\n",
    "similar_query = \"\"\"\n",
    "WITH twotables AS (\n",
    "SELECT m.name\n",
    "FROM \n",
    "  sqlite_master AS m\n",
    "JOIN \n",
    "  pragma_table_info(m.name) AS p\n",
    "WHERE\n",
    "  m.name IN (\"dailySteps_merged\", \"daily2\")\n",
    "GROUP BY\n",
    "  m.name\n",
    ")\n",
    "SELECT col AS columns, type AS dtype\n",
    "FROM (\n",
    "    SELECT pti.name AS col, pti.type AS type\n",
    "    FROM twotables AS t CROSS JOIN pragma_table_info(t.name) AS pti\n",
    "    GROUP BY col\n",
    "    HAVING COUNT(t.name) >=2\n",
    ");\n",
    "\"\"\"\n",
    "cur.execute(similar_query)\n",
    "print(\"Similar columns across dailySteps_merged and daily2:\")\n",
    "pprint(cur.fetchall())\n",
    "\n",
    "# now we can join those two into one table:\n",
    "create_daily_table_script = \"\"\"\n",
    "CREATE TABLE IF NOT EXISTS daily3 AS\n",
    "    SELECT\n",
    "        d.*\n",
    "    FROM\n",
    "        daily2 AS d\n",
    "    JOIN\n",
    "        dailySteps_merged AS s\n",
    "    ON\n",
    "        d.Id = s.Id AND\n",
    "        d.ActivityDate = s.ActivityDay;\n",
    "\"\"\"\n",
    "cur.executescript(create_daily_table_script)\n",
    "print(\"created table: `daily3`.\", cur.fetchall())\n",
    "\n",
    "get_table_cols_with_dtypes(cur, \"daily3\")"
   ]
  },
  {
   "cell_type": "code",
   "execution_count": 19,
   "id": "a4692f48",
   "metadata": {
    "ExecuteTime": {
     "end_time": "2022-02-20T10:09:04.831745Z",
     "start_time": "2022-02-20T10:09:04.597360Z"
    }
   },
   "outputs": [
    {
     "name": "stdout",
     "output_type": "stream",
     "text": [
      "Number of rows in each table:\n",
      "daily                                  [(940,)]\n",
      "daily2                                 [(940,)]\n",
      "daily3                                 [(940,)]\n",
      "dailyActivity_merged                   [(940,)]\n",
      "dailyCalories_merged                   [(940,)]\n",
      "dailyIntensities_merged                [(940,)]\n",
      "dailySteps_merged                      [(940,)]\n",
      "heartrate_seconds_merged           [(2483658,)]\n",
      "hourlyCalories_merged                [(22099,)]\n",
      "hourlyIntensities_merged             [(22099,)]\n",
      "hourlySteps_merged                   [(22099,)]\n",
      "minute4                             [(125903,)]\n",
      "minuteCaloriesNarrow_merged        [(1325580,)]\n",
      "minuteCaloriesWide_merged            [(21645,)]\n",
      "minuteIntensitiesNarrow_merged     [(1325580,)]\n",
      "minuteIntensitiesWide_merged         [(21645,)]\n",
      "minuteMETsNarrow_merged            [(1325580,)]\n",
      "minuteSleep_merged                  [(188521,)]\n",
      "minuteStepsNarrow_merged           [(1325580,)]\n",
      "minuteStepsWide_merged               [(21645,)]\n",
      "sleepDay_merged                        [(413,)]\n",
      "weightLogInfo_merged                    [(67,)]\n"
     ]
    }
   ],
   "source": [
    "get_tables_with_num_rows(cur)"
   ]
  },
  {
   "cell_type": "markdown",
   "id": "6a78ca27",
   "metadata": {},
   "source": [
    "Lastly, we will add the `sleepDay_merged` table to our `daily3` to create `daily4`."
   ]
  },
  {
   "cell_type": "code",
   "execution_count": 20,
   "id": "d9f571c9",
   "metadata": {
    "ExecuteTime": {
     "end_time": "2022-02-20T10:09:04.876541Z",
     "start_time": "2022-02-20T10:09:04.832743Z"
    }
   },
   "outputs": [
    {
     "name": "stdout",
     "output_type": "stream",
     "text": [
      "`sleepDay_merged` table cols:\n",
      "[('Id', 'INT'),\n",
      " ('SleepDay', 'DATETIME'),\n",
      " ('TotalMinutesAsleep', 'INT'),\n",
      " ('TotalSleepRecords', 'INT'),\n",
      " ('TotalTimeInBed', 'INT')]\n",
      "`daily3` table cols:\n",
      "[('ActivityDate', 'NUM'),\n",
      " ('Calories', 'INT'),\n",
      " ('FairlyActiveMinutes', 'INT'),\n",
      " ('Id', 'INT'),\n",
      " ('LightActiveDistance', 'NUM'),\n",
      " ('LightlyActiveMinutes', 'INT'),\n",
      " ('LoggedActivitiesDistance', 'NUM'),\n",
      " ('ModeratelyActiveDistance', 'NUM'),\n",
      " ('SedentaryActiveDistance', 'NUM'),\n",
      " ('SedentaryMinutes', 'INT'),\n",
      " ('TotalDistance', 'NUM'),\n",
      " ('TotalSteps', 'INT'),\n",
      " ('TrackerDistance', 'NUM'),\n",
      " ('VeryActiveDistance', 'NUM'),\n",
      " ('VeryActiveMinutes', 'INT')]\n",
      "Similar columns across sleepDay_merged and daily3:\n",
      "[('Id', 'INT')]\n",
      "created table: `daily4`. []\n",
      "`daily4` table cols:\n",
      "[('ActivityDate', 'NUM'),\n",
      " ('Calories', 'INT'),\n",
      " ('FairlyActiveMinutes', 'INT'),\n",
      " ('Id', 'INT'),\n",
      " ('LightActiveDistance', 'NUM'),\n",
      " ('LightlyActiveMinutes', 'INT'),\n",
      " ('LoggedActivitiesDistance', 'NUM'),\n",
      " ('ModeratelyActiveDistance', 'NUM'),\n",
      " ('SedentaryActiveDistance', 'NUM'),\n",
      " ('SedentaryMinutes', 'INT'),\n",
      " ('SleepDay', 'NUM'),\n",
      " ('TotalDistance', 'NUM'),\n",
      " ('TotalMinutesAsleep', 'INT'),\n",
      " ('TotalSleepRecords', 'INT'),\n",
      " ('TotalSteps', 'INT'),\n",
      " ('TotalTimeInBed', 'INT'),\n",
      " ('TrackerDistance', 'NUM'),\n",
      " ('VeryActiveDistance', 'NUM'),\n",
      " ('VeryActiveMinutes', 'INT')]\n"
     ]
    }
   ],
   "source": [
    "get_table_cols_with_dtypes(cur, \"sleepDay_merged\")\n",
    "get_table_cols_with_dtypes(cur, \"daily3\")\n",
    "\n",
    "# look at similar columns between dailySteps_merged  and daily2:\n",
    "similar_query = \"\"\"\n",
    "WITH twotables AS (\n",
    "SELECT m.name\n",
    "FROM \n",
    "  sqlite_master AS m\n",
    "JOIN \n",
    "  pragma_table_info(m.name) AS p\n",
    "WHERE\n",
    "  m.name IN (\"sleepDay_merged\", \"daily3\")\n",
    "GROUP BY\n",
    "  m.name\n",
    ")\n",
    "SELECT col AS columns, type AS dtype\n",
    "FROM (\n",
    "    SELECT pti.name AS col, pti.type AS type\n",
    "    FROM twotables AS t CROSS JOIN pragma_table_info(t.name) AS pti\n",
    "    GROUP BY col\n",
    "    HAVING COUNT(t.name) >=2\n",
    ");\n",
    "\"\"\"\n",
    "cur.execute(similar_query)\n",
    "print(\"Similar columns across sleepDay_merged and daily3:\")\n",
    "pprint(cur.fetchall())\n",
    "\n",
    "# now we can join those two into one table:\n",
    "create_daily_table_script = \"\"\"\n",
    "CREATE TABLE IF NOT EXISTS daily4 AS\n",
    "    SELECT\n",
    "        d.*,\n",
    "        s.SleepDay,\n",
    "        s.TotalMinutesAsleep,\n",
    "        s.TotalSleepRecords,\n",
    "        s.TotalTimeInBed\n",
    "    FROM\n",
    "        daily3 AS d\n",
    "    JOIN\n",
    "        sleepDay_merged AS s\n",
    "    ON\n",
    "        d.Id = s.Id\n",
    "\"\"\"\n",
    "cur.executescript(create_daily_table_script)\n",
    "print(\"created table: `daily4`.\", cur.fetchall())\n",
    "\n",
    "get_table_cols_with_dtypes(cur, \"daily4\")"
   ]
  },
  {
   "cell_type": "markdown",
   "id": "95153715",
   "metadata": {},
   "source": [
    "Lets clean up our temp tables and rename `daily4` to `daily`."
   ]
  },
  {
   "cell_type": "code",
   "execution_count": 21,
   "id": "6c6e040b",
   "metadata": {
    "ExecuteTime": {
     "end_time": "2022-02-20T10:09:04.908120Z",
     "start_time": "2022-02-20T10:09:04.877565Z"
    }
   },
   "outputs": [
    {
     "name": "stdout",
     "output_type": "stream",
     "text": [
      "[]\n"
     ]
    }
   ],
   "source": [
    "q = \"\"\"\n",
    "DROP TABLE IF EXISTS daily;\n",
    "DROP TABLE IF EXISTS daily2;\n",
    "DROP TABLE IF EXISTS daily3;\n",
    "ALTER TABLE daily4 RENAME TO daily;\n",
    "\"\"\"\n",
    "cur.executescript(q)\n",
    "print(cur.fetchall())"
   ]
  },
  {
   "cell_type": "code",
   "execution_count": 22,
   "id": "36a3ec93",
   "metadata": {
    "ExecuteTime": {
     "end_time": "2022-02-20T10:09:05.143491Z",
     "start_time": "2022-02-20T10:09:04.909117Z"
    }
   },
   "outputs": [
    {
     "name": "stdout",
     "output_type": "stream",
     "text": [
      "Number of rows in each table:\n",
      "daily                                [(12441,)]\n",
      "dailyActivity_merged                   [(940,)]\n",
      "dailyCalories_merged                   [(940,)]\n",
      "dailyIntensities_merged                [(940,)]\n",
      "dailySteps_merged                      [(940,)]\n",
      "heartrate_seconds_merged           [(2483658,)]\n",
      "hourlyCalories_merged                [(22099,)]\n",
      "hourlyIntensities_merged             [(22099,)]\n",
      "hourlySteps_merged                   [(22099,)]\n",
      "minute4                             [(125903,)]\n",
      "minuteCaloriesNarrow_merged        [(1325580,)]\n",
      "minuteCaloriesWide_merged            [(21645,)]\n",
      "minuteIntensitiesNarrow_merged     [(1325580,)]\n",
      "minuteIntensitiesWide_merged         [(21645,)]\n",
      "minuteMETsNarrow_merged            [(1325580,)]\n",
      "minuteSleep_merged                  [(188521,)]\n",
      "minuteStepsNarrow_merged           [(1325580,)]\n",
      "minuteStepsWide_merged               [(21645,)]\n",
      "sleepDay_merged                        [(413,)]\n",
      "weightLogInfo_merged                    [(67,)]\n"
     ]
    }
   ],
   "source": [
    "get_tables_with_num_rows(cur)"
   ]
  },
  {
   "cell_type": "markdown",
   "id": "6de615ea",
   "metadata": {},
   "source": [
    "### Creating The `hourly`, `minuteNarrow`, `minuteWide` Tables\n",
    "Since this process has taken so long, we will write a separate script for combining the hourly and minutes tables into the tables `hourly` and `minute`.  \n",
    "The hourly table creation script is [SQL_create_hourly_table.txt](https://github.com/hannankhan888/Data_Science_Portfolio/blob/main/Wellness_Tech_Company_Analysis_Case_Study/SQL_queries/SQL_create_hourly_table.txt).  \n",
    "The minute tables present a unique problem. The data is presented in both narrow and wide format. The `narrow` format contains data by the minute. The `wide` format contains data by the hour, with 60 columns, each representing the calories burned within that minute of that hour.  \n",
    "We will use data from the `narrow` tables to create our `minuteNarrow` table.\n",
    "The minute table creation script is [SQL_create_minuteNarrow_table.txt](https://github.com/hannankhan888/Data_Science_Portfolio/blob/main/Wellness_Tech_Company_Analysis_Case_Study/SQL_queries/SQL_create_minuteNarrow_table.txt).  \n",
    "We will also go ahead and combine the `wide` tables in case we need to use them later, into our `minuteWide` table. The minuteWide table creation script is [SQL_create_minuteWide_table.txt](https://github.com/hannankhan888/Data_Science_Portfolio/blob/main/Wellness_Tech_Company_Analysis_Case_Study/SQL_queries/SQL_create_minuteWide_table.txt)."
   ]
  },
  {
   "cell_type": "code",
   "execution_count": 23,
   "id": "f3e724df",
   "metadata": {
    "ExecuteTime": {
     "end_time": "2022-02-20T10:09:36.088687Z",
     "start_time": "2022-02-20T10:09:05.144489Z"
    }
   },
   "outputs": [
    {
     "name": "stdout",
     "output_type": "stream",
     "text": [
      "[]\n",
      "[]\n",
      "[]\n",
      "[]\n"
     ]
    }
   ],
   "source": [
    "# executing create hourly script:\n",
    "query = \"\"\n",
    "with open(r\"SQL_queries\\SQL_create_hourly_table.txt\", mode=\"r\") as file:\n",
    "    query = file.readlines()\n",
    "cur.executescript(''.join(query))\n",
    "print(cur.fetchall())\n",
    "\n",
    "# executing create minuteNarrow script:\n",
    "query = \"\"\n",
    "with open(r\"SQL_queries\\SQL_create_minuteNarrow_table.txt\", mode=\"r\") as file:\n",
    "    query = file.readlines()\n",
    "cur.executescript(''.join(query))\n",
    "print(cur.fetchall())\n",
    "\n",
    "# executing create minuteWide script:\n",
    "query = \"\"\n",
    "with open(r\"SQL_queries\\SQL_create_minuteWide_table.txt\", mode=\"r\") as file:\n",
    "    query = file.readlines()\n",
    "cur.executescript(''.join(query))\n",
    "print(cur.fetchall())\n",
    "\n",
    "# executing delete extra tables script:\n",
    "query = \"\"\n",
    "with open(r\"SQL_queries\\SQL_keep_main_tables_only.txt\", mode=\"r\") as file:\n",
    "    query = file.readlines()\n",
    "cur.executescript(''.join(query))\n",
    "print(cur.fetchall())"
   ]
  },
  {
   "cell_type": "code",
   "execution_count": 24,
   "id": "880c01e6",
   "metadata": {
    "ExecuteTime": {
     "end_time": "2022-02-20T10:09:36.119253Z",
     "start_time": "2022-02-20T10:09:36.089685Z"
    }
   },
   "outputs": [
    {
     "name": "stdout",
     "output_type": "stream",
     "text": [
      "Number of rows in each table:\n",
      "daily                                [(12441,)]\n",
      "hourly                               [(22099,)]\n",
      "minuteNarrow                        [(125903,)]\n",
      "minuteWide                           [(21645,)]\n"
     ]
    }
   ],
   "source": [
    "get_tables_with_num_rows(cur)"
   ]
  },
  {
   "cell_type": "markdown",
   "id": "15f267fd",
   "metadata": {},
   "source": [
    "### Creating A Dump Table For Our Database For Easy Recreation\n",
    "Saving a SQL dump file will help us to quickly recreate our database in case it corrupts during our analysis. We can also treat this file as a backup."
   ]
  },
  {
   "cell_type": "code",
   "execution_count": 27,
   "id": "068f9559",
   "metadata": {
    "ExecuteTime": {
     "end_time": "2022-02-20T10:18:46.263635Z",
     "start_time": "2022-02-20T10:18:43.192815Z"
    }
   },
   "outputs": [],
   "source": [
    "dump_path = data_dir + r\"\\\\main_tables_dump.sql\"\n",
    "\n",
    "with open(dump_path, 'w') as f:\n",
    "    for line in db_con.iterdump():\n",
    "        f.write(f\"{line}\\n\")"
   ]
  },
  {
   "cell_type": "markdown",
   "id": "57c66772",
   "metadata": {},
   "source": [
    "## Data Preparation-Processing"
   ]
  },
  {
   "cell_type": "markdown",
   "id": "6cacc6fd",
   "metadata": {},
   "source": [
    "## Analysis"
   ]
  },
  {
   "cell_type": "markdown",
   "id": "3435f39d",
   "metadata": {},
   "source": [
    "### Analysis Summary"
   ]
  },
  {
   "cell_type": "markdown",
   "id": "0c373b05",
   "metadata": {},
   "source": [
    "## Actions"
   ]
  },
  {
   "cell_type": "markdown",
   "id": "57a595fb",
   "metadata": {},
   "source": [
    "## Appendix"
   ]
  },
  {
   "cell_type": "markdown",
   "id": "680965cf",
   "metadata": {},
   "source": [
    "### Definitions"
   ]
  },
  {
   "cell_type": "markdown",
   "id": "2b2e0814",
   "metadata": {},
   "source": [
    "### Files Used"
   ]
  },
  {
   "cell_type": "code",
   "execution_count": null,
   "id": "e162d8be",
   "metadata": {},
   "outputs": [],
   "source": []
  }
 ],
 "metadata": {
  "kernelspec": {
   "display_name": "Python 3 (ipykernel)",
   "language": "python",
   "name": "python3"
  },
  "language_info": {
   "codemirror_mode": {
    "name": "ipython",
    "version": 3
   },
   "file_extension": ".py",
   "mimetype": "text/x-python",
   "name": "python",
   "nbconvert_exporter": "python",
   "pygments_lexer": "ipython3",
   "version": "3.9.7"
  },
  "toc": {
   "base_numbering": 1,
   "nav_menu": {},
   "number_sections": true,
   "sideBar": true,
   "skip_h1_title": false,
   "title_cell": "Table of Contents",
   "title_sidebar": "Contents",
   "toc_cell": false,
   "toc_position": {},
   "toc_section_display": true,
   "toc_window_display": true
  }
 },
 "nbformat": 4,
 "nbformat_minor": 5
}
