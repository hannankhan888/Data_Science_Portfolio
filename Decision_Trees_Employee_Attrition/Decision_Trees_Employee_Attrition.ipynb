{
 "cells": [
  {
   "cell_type": "markdown",
   "id": "dbb9614d",
   "metadata": {},
   "source": [
    "# Using Decision Trees To Predict Employee Attrition\n",
    "> Author: Hannan Khan  \n",
    "> Last Updated: 2022-04-01 04:49:53"
   ]
  },
  {
   "cell_type": "markdown",
   "id": "3d0ce0a7",
   "metadata": {},
   "source": [
    "**Note: This notebook has a webapp which can be accessed [here](https://share.streamlit.io/hannankhan888/employee_attrition_webapp/main).**\n",
    "\n",
    "The original dataset can be found [here](https://www.kaggle.com/datasets/pavansubhasht/ibm-hr-analytics-attrition-dataset).\n",
    "\n",
    "**Task:** This notebook tries to find the best decision tree model to predict employee attrition.\n",
    "\n",
    "The data was prepared using the data preparation notebook [here](https://github.com/hannankhan888/Data_Science_Portfolio/tree/main/Decision_Trees_Employee_Attrition/Data_Preparation.ipynb). That notebook covers\n",
    "* loading data\n",
    "* EDA\n",
    "* Data Cleaning\n",
    "* Feature Engineering\n",
    "\n",
    "**Employee Attrition** - similar to churn, refers to the employee's departure from the organization.  \n",
    "\n",
    "## Loading Libraries & Dataset\n",
    "Let's begin by importing useful libraries."
   ]
  },
  {
   "cell_type": "code",
   "execution_count": 1,
   "id": "f4cdb3c3",
   "metadata": {
    "ExecuteTime": {
     "end_time": "2022-04-01T05:12:52.026838Z",
     "start_time": "2022-04-01T05:12:51.310444Z"
    }
   },
   "outputs": [],
   "source": [
    "import pandas as pd\n",
    "import numpy as np\n",
    "from sklearn.ensemble import RandomForestClassifier, ExtraTreesClassifier, AdaBoostClassifier, GradientBoostingClassifier\n",
    "from sklearn.metrics import accuracy_score\n",
    "from sklearn.model_selection import train_test_split, GridSearchCV\n",
    "from sklearn.preprocessing import PolynomialFeatures\n",
    "from sklearn.tree import DecisionTreeClassifier\n",
    "from xgboost import XGBClassifier"
   ]
  },
  {
   "cell_type": "markdown",
   "id": "6006a9f3",
   "metadata": {},
   "source": [
    "Now we can import the cleaned and prepared dataset."
   ]
  },
  {
   "cell_type": "code",
   "execution_count": 2,
   "id": "868c1c75",
   "metadata": {
    "ExecuteTime": {
     "end_time": "2022-04-01T05:12:52.058753Z",
     "start_time": "2022-04-01T05:12:52.027837Z"
    }
   },
   "outputs": [
    {
     "data": {
      "text/html": [
       "<div>\n",
       "<style scoped>\n",
       "    .dataframe tbody tr th:only-of-type {\n",
       "        vertical-align: middle;\n",
       "    }\n",
       "\n",
       "    .dataframe tbody tr th {\n",
       "        vertical-align: top;\n",
       "    }\n",
       "\n",
       "    .dataframe thead th {\n",
       "        text-align: right;\n",
       "    }\n",
       "</style>\n",
       "<table border=\"1\" class=\"dataframe\">\n",
       "  <thead>\n",
       "    <tr style=\"text-align: right;\">\n",
       "      <th></th>\n",
       "      <th>Age</th>\n",
       "      <th>Attrition</th>\n",
       "      <th>DailyRate</th>\n",
       "      <th>Dep_HR</th>\n",
       "      <th>Dep_R&amp;D</th>\n",
       "      <th>Dep_Sales</th>\n",
       "      <th>DistanceFromHome</th>\n",
       "      <th>Divorced</th>\n",
       "      <th>Edu_HR</th>\n",
       "      <th>Edu_Life_Sci</th>\n",
       "      <th>...</th>\n",
       "      <th>TotalWorkingYears</th>\n",
       "      <th>TrainingTimesLastYear</th>\n",
       "      <th>Travel_Frequently</th>\n",
       "      <th>Travel_Rarely</th>\n",
       "      <th>WorkLifeBalance</th>\n",
       "      <th>YearsAtCompany</th>\n",
       "      <th>YearsAtOtherCompanies</th>\n",
       "      <th>YearsInCurrentRole</th>\n",
       "      <th>YearsSinceLastPromotion</th>\n",
       "      <th>YearsWithCurrManager</th>\n",
       "    </tr>\n",
       "  </thead>\n",
       "  <tbody>\n",
       "    <tr>\n",
       "      <th>0</th>\n",
       "      <td>41</td>\n",
       "      <td>1</td>\n",
       "      <td>1102</td>\n",
       "      <td>0</td>\n",
       "      <td>0</td>\n",
       "      <td>1</td>\n",
       "      <td>1</td>\n",
       "      <td>0</td>\n",
       "      <td>0</td>\n",
       "      <td>1</td>\n",
       "      <td>...</td>\n",
       "      <td>8</td>\n",
       "      <td>0</td>\n",
       "      <td>0</td>\n",
       "      <td>1</td>\n",
       "      <td>1</td>\n",
       "      <td>6</td>\n",
       "      <td>2</td>\n",
       "      <td>4</td>\n",
       "      <td>0</td>\n",
       "      <td>5</td>\n",
       "    </tr>\n",
       "    <tr>\n",
       "      <th>1</th>\n",
       "      <td>49</td>\n",
       "      <td>0</td>\n",
       "      <td>279</td>\n",
       "      <td>0</td>\n",
       "      <td>1</td>\n",
       "      <td>0</td>\n",
       "      <td>8</td>\n",
       "      <td>0</td>\n",
       "      <td>0</td>\n",
       "      <td>1</td>\n",
       "      <td>...</td>\n",
       "      <td>10</td>\n",
       "      <td>3</td>\n",
       "      <td>1</td>\n",
       "      <td>0</td>\n",
       "      <td>3</td>\n",
       "      <td>10</td>\n",
       "      <td>0</td>\n",
       "      <td>7</td>\n",
       "      <td>1</td>\n",
       "      <td>7</td>\n",
       "    </tr>\n",
       "    <tr>\n",
       "      <th>2</th>\n",
       "      <td>37</td>\n",
       "      <td>1</td>\n",
       "      <td>1373</td>\n",
       "      <td>0</td>\n",
       "      <td>1</td>\n",
       "      <td>0</td>\n",
       "      <td>2</td>\n",
       "      <td>0</td>\n",
       "      <td>0</td>\n",
       "      <td>0</td>\n",
       "      <td>...</td>\n",
       "      <td>7</td>\n",
       "      <td>3</td>\n",
       "      <td>0</td>\n",
       "      <td>1</td>\n",
       "      <td>3</td>\n",
       "      <td>0</td>\n",
       "      <td>7</td>\n",
       "      <td>0</td>\n",
       "      <td>0</td>\n",
       "      <td>0</td>\n",
       "    </tr>\n",
       "    <tr>\n",
       "      <th>3</th>\n",
       "      <td>33</td>\n",
       "      <td>0</td>\n",
       "      <td>1392</td>\n",
       "      <td>0</td>\n",
       "      <td>1</td>\n",
       "      <td>0</td>\n",
       "      <td>3</td>\n",
       "      <td>0</td>\n",
       "      <td>0</td>\n",
       "      <td>1</td>\n",
       "      <td>...</td>\n",
       "      <td>8</td>\n",
       "      <td>3</td>\n",
       "      <td>1</td>\n",
       "      <td>0</td>\n",
       "      <td>3</td>\n",
       "      <td>8</td>\n",
       "      <td>0</td>\n",
       "      <td>7</td>\n",
       "      <td>3</td>\n",
       "      <td>0</td>\n",
       "    </tr>\n",
       "    <tr>\n",
       "      <th>4</th>\n",
       "      <td>27</td>\n",
       "      <td>0</td>\n",
       "      <td>591</td>\n",
       "      <td>0</td>\n",
       "      <td>1</td>\n",
       "      <td>0</td>\n",
       "      <td>2</td>\n",
       "      <td>0</td>\n",
       "      <td>0</td>\n",
       "      <td>0</td>\n",
       "      <td>...</td>\n",
       "      <td>6</td>\n",
       "      <td>3</td>\n",
       "      <td>0</td>\n",
       "      <td>1</td>\n",
       "      <td>3</td>\n",
       "      <td>2</td>\n",
       "      <td>4</td>\n",
       "      <td>2</td>\n",
       "      <td>2</td>\n",
       "      <td>2</td>\n",
       "    </tr>\n",
       "  </tbody>\n",
       "</table>\n",
       "<p>5 rows × 64 columns</p>\n",
       "</div>"
      ],
      "text/plain": [
       "   Age  Attrition  DailyRate  Dep_HR  Dep_R&D  Dep_Sales  DistanceFromHome  \\\n",
       "0   41          1       1102       0        0          1                 1   \n",
       "1   49          0        279       0        1          0                 8   \n",
       "2   37          1       1373       0        1          0                 2   \n",
       "3   33          0       1392       0        1          0                 3   \n",
       "4   27          0        591       0        1          0                 2   \n",
       "\n",
       "   Divorced  Edu_HR  Edu_Life_Sci  ...  TotalWorkingYears  \\\n",
       "0         0       0             1  ...                  8   \n",
       "1         0       0             1  ...                 10   \n",
       "2         0       0             0  ...                  7   \n",
       "3         0       0             1  ...                  8   \n",
       "4         0       0             0  ...                  6   \n",
       "\n",
       "   TrainingTimesLastYear  Travel_Frequently  Travel_Rarely  WorkLifeBalance  \\\n",
       "0                      0                  0              1                1   \n",
       "1                      3                  1              0                3   \n",
       "2                      3                  0              1                3   \n",
       "3                      3                  1              0                3   \n",
       "4                      3                  0              1                3   \n",
       "\n",
       "   YearsAtCompany  YearsAtOtherCompanies  YearsInCurrentRole  \\\n",
       "0               6                      2                   4   \n",
       "1              10                      0                   7   \n",
       "2               0                      7                   0   \n",
       "3               8                      0                   7   \n",
       "4               2                      4                   2   \n",
       "\n",
       "   YearsSinceLastPromotion  YearsWithCurrManager  \n",
       "0                        0                     5  \n",
       "1                        1                     7  \n",
       "2                        0                     0  \n",
       "3                        3                     0  \n",
       "4                        2                     2  \n",
       "\n",
       "[5 rows x 64 columns]"
      ]
     },
     "execution_count": 2,
     "metadata": {},
     "output_type": "execute_result"
    }
   ],
   "source": [
    "df = pd.read_csv(r\"../data/Employee_Attrition_Prepared.csv\").drop(\"Unnamed: 0\", axis=1)\n",
    "df.head()"
   ]
  },
  {
   "cell_type": "code",
   "execution_count": 17,
   "id": "3c3ee593",
   "metadata": {
    "ExecuteTime": {
     "end_time": "2022-04-01T06:17:47.424237Z",
     "start_time": "2022-04-01T06:17:47.416258Z"
    }
   },
   "outputs": [
    {
     "data": {
      "text/plain": [
       "Index(['Age', 'Attrition', 'DailyRate', 'Dep_HR', 'Dep_R&D', 'Dep_Sales',\n",
       "       'DistanceFromHome', 'Divorced', 'Edu_HR', 'Edu_Life_Sci',\n",
       "       'Edu_Marketing', 'Edu_Medical', 'Edu_Other', 'Edu_Technical_Deg',\n",
       "       'Education', 'EmployeeCount', 'EmployeeNumber',\n",
       "       'EnvironmentSatisfaction', 'Gender', 'HourlyRate', 'JobInvolvement',\n",
       "       'JobLevel', 'JobSatisfaction', 'Job_HR', 'Job_Healthcare_Rep',\n",
       "       'Job_Lab_Tech', 'Job_Manager', 'Job_Manuf_Dir', 'Job_Research_Dir',\n",
       "       'Job_Research_Sci', 'Job_Sales_Exec', 'Job_Sales_Rep',\n",
       "       'LogDistanceFromHome', 'LogJobLevel', 'LogMonthlyIncome',\n",
       "       'LogNumCompaniesWorked', 'LogPercentSalaryHike', 'LogTotalWorkingYears',\n",
       "       'LogYearsAtCompany', 'Married', 'MonthlyIncome', 'MonthlyRate',\n",
       "       'Non-Travel', 'NumCompaniesWorked', 'NumYearsAtEachCompany', 'Over18',\n",
       "       'OverTime', 'OverallSatisfaction', 'PercentSalaryHike',\n",
       "       'PerformanceRating', 'RelationshipSatisfaction', 'Single',\n",
       "       'StandardHours', 'StockOptionLevel', 'TotalWorkingYears',\n",
       "       'TrainingTimesLastYear', 'Travel_Frequently', 'Travel_Rarely',\n",
       "       'WorkLifeBalance', 'YearsAtCompany', 'YearsAtOtherCompanies',\n",
       "       'YearsInCurrentRole', 'YearsSinceLastPromotion',\n",
       "       'YearsWithCurrManager'],\n",
       "      dtype='object')"
      ]
     },
     "execution_count": 17,
     "metadata": {},
     "output_type": "execute_result"
    }
   ],
   "source": [
    "df.columns"
   ]
  },
  {
   "cell_type": "markdown",
   "id": "80c5fe90",
   "metadata": {
    "ExecuteTime": {
     "end_time": "2022-03-31T05:19:14.290278Z",
     "start_time": "2022-03-31T05:19:14.272204Z"
    }
   },
   "source": [
    "## Splitting Data\n",
    "Now let's split our data into train and test sets."
   ]
  },
  {
   "cell_type": "code",
   "execution_count": 3,
   "id": "2b1506f6",
   "metadata": {
    "ExecuteTime": {
     "end_time": "2022-04-01T05:12:52.074711Z",
     "start_time": "2022-04-01T05:12:52.059751Z"
    }
   },
   "outputs": [],
   "source": [
    "target = \"Attrition\"\n",
    "\n",
    "X_data = df.drop(target, axis=1)\n",
    "Y_data = df[target]\n",
    "\n",
    "X_train, X_test, Y_train, Y_test = train_test_split(X_data, Y_data, test_size=0.2, random_state=42)"
   ]
  },
  {
   "cell_type": "markdown",
   "id": "358f0f18",
   "metadata": {},
   "source": [
    "## Creating & Fitting Models\n",
    "Now we create a multiple decision tree models and fit our training data to them.  \n",
    "We will be creating the models with default parameters, and then performing hyperparameter tuning on the best one."
   ]
  },
  {
   "cell_type": "code",
   "execution_count": 4,
   "id": "6c813499",
   "metadata": {
    "ExecuteTime": {
     "end_time": "2022-04-01T05:12:53.040451Z",
     "start_time": "2022-04-01T05:12:52.075708Z"
    }
   },
   "outputs": [
    {
     "name": "stderr",
     "output_type": "stream",
     "text": [
      "C:\\ProgramData\\Anaconda3\\lib\\site-packages\\xgboost\\sklearn.py:1224: UserWarning: The use of label encoder in XGBClassifier is deprecated and will be removed in a future release. To remove this warning, do the following: 1) Pass option use_label_encoder=False when constructing XGBClassifier object; and 2) Encode your labels (y) as integers starting with 0, i.e. 0, 1, 2, ..., [num_class - 1].\n",
      "  warnings.warn(label_encoder_deprecation_msg, UserWarning)\n"
     ]
    },
    {
     "name": "stdout",
     "output_type": "stream",
     "text": [
      "[00:12:52] WARNING: C:/Users/Administrator/workspace/xgboost-win64_release_1.5.1/src/learner.cc:1115: Starting in XGBoost 1.3.0, the default evaluation metric used with the objective 'binary:logistic' was changed from 'error' to 'logloss'. Explicitly set eval_metric if you'd like to restore the old behavior.\n"
     ]
    }
   ],
   "source": [
    "DT = DecisionTreeClassifier()\n",
    "RF = RandomForestClassifier()\n",
    "ET = ExtraTreesClassifier()\n",
    "XGB = XGBClassifier()\n",
    "AdaB = AdaBoostClassifier()\n",
    "GBC = GradientBoostingClassifier()\n",
    "\n",
    "DT = DT.fit(X_train, Y_train)\n",
    "RF = RF.fit(X_train, Y_train)\n",
    "ET = ET.fit(X_train, Y_train)\n",
    "XGB = XGB.fit(X_train, Y_train)\n",
    "AdaB = AdaB.fit(X_train, Y_train)\n",
    "GBC = GBC.fit(X_train, Y_train)"
   ]
  },
  {
   "cell_type": "markdown",
   "id": "dab24090",
   "metadata": {},
   "source": [
    "Now we look at the predictions for the train and test sets, as well as storing our accuracy results in the scores_df."
   ]
  },
  {
   "cell_type": "code",
   "execution_count": 5,
   "id": "bfdccbc6",
   "metadata": {
    "ExecuteTime": {
     "end_time": "2022-04-01T05:12:53.794478Z",
     "start_time": "2022-04-01T05:12:53.041449Z"
    }
   },
   "outputs": [
    {
     "data": {
      "text/html": [
       "<div>\n",
       "<style scoped>\n",
       "    .dataframe tbody tr th:only-of-type {\n",
       "        vertical-align: middle;\n",
       "    }\n",
       "\n",
       "    .dataframe tbody tr th {\n",
       "        vertical-align: top;\n",
       "    }\n",
       "\n",
       "    .dataframe thead th {\n",
       "        text-align: right;\n",
       "    }\n",
       "</style>\n",
       "<table border=\"1\" class=\"dataframe\">\n",
       "  <thead>\n",
       "    <tr style=\"text-align: right;\">\n",
       "      <th></th>\n",
       "      <th>DecisionTree</th>\n",
       "      <th>RandomForest</th>\n",
       "      <th>ExtraTree</th>\n",
       "      <th>XGB</th>\n",
       "      <th>AdaB</th>\n",
       "      <th>GBC</th>\n",
       "    </tr>\n",
       "  </thead>\n",
       "  <tbody>\n",
       "    <tr>\n",
       "      <th>train_acc</th>\n",
       "      <td>1.000000</td>\n",
       "      <td>1.000000</td>\n",
       "      <td>1.000000</td>\n",
       "      <td>1.000000</td>\n",
       "      <td>0.903061</td>\n",
       "      <td>0.960884</td>\n",
       "    </tr>\n",
       "    <tr>\n",
       "      <th>test_acc</th>\n",
       "      <td>0.802721</td>\n",
       "      <td>0.877551</td>\n",
       "      <td>0.877551</td>\n",
       "      <td>0.870748</td>\n",
       "      <td>0.874150</td>\n",
       "      <td>0.884354</td>\n",
       "    </tr>\n",
       "  </tbody>\n",
       "</table>\n",
       "</div>"
      ],
      "text/plain": [
       "           DecisionTree  RandomForest  ExtraTree       XGB      AdaB       GBC\n",
       "train_acc      1.000000      1.000000   1.000000  1.000000  0.903061  0.960884\n",
       "test_acc       0.802721      0.877551   0.877551  0.870748  0.874150  0.884354"
      ]
     },
     "execution_count": 5,
     "metadata": {},
     "output_type": "execute_result"
    }
   ],
   "source": [
    "scores_df = pd.DataFrame(columns=['DecisionTree'],\n",
    "                        index = ['train_acc', 'test_acc'])\n",
    "scores_df.style.set_caption(\"Accuracy of Tree Models On Prepared Data\")\n",
    "\n",
    "scores_df['DecisionTree'] = [accuracy_score(Y_train, DT.predict(X_train)),\n",
    "                            accuracy_score(Y_test, DT.predict(X_test))]\n",
    "scores_df['RandomForest'] = [accuracy_score(Y_train, RF.predict(X_train)),\n",
    "                            accuracy_score(Y_test, RF.predict(X_test))]\n",
    "scores_df['ExtraTree'] = [accuracy_score(Y_train, ET.predict(X_train)),\n",
    "                            accuracy_score(Y_test, ET.predict(X_test))]\n",
    "scores_df['XGB'] = [accuracy_score(Y_train, XGB.predict(X_train)),\n",
    "                            accuracy_score(Y_test, XGB.predict(X_test))]\n",
    "scores_df['AdaB'] = [accuracy_score(Y_train, AdaB.predict(X_train)),\n",
    "                            accuracy_score(Y_test, AdaB.predict(X_test))]\n",
    "scores_df['GBC'] = [accuracy_score(Y_train, GBC.predict(X_train)),\n",
    "                            accuracy_score(Y_test, GBC.predict(X_test))]\n",
    "scores_df"
   ]
  },
  {
   "cell_type": "markdown",
   "id": "d61a22e1",
   "metadata": {},
   "source": [
    "Currently, our best model seems to be the **ExtraRandomizedTree** model. We could go on to finalize our model by tuning hyperparameters, but I want to test to see if we can increase the accuracy by modifying the features further.\n",
    "\n",
    "## Considering Creating/Using Polynomial Features\n",
    "What if we were to introduce polynomial features? These extra features could account for interaction effects between features."
   ]
  },
  {
   "cell_type": "code",
   "execution_count": 6,
   "id": "4e17a7e6",
   "metadata": {
    "ExecuteTime": {
     "end_time": "2022-04-01T05:12:53.841158Z",
     "start_time": "2022-04-01T05:12:53.795475Z"
    }
   },
   "outputs": [],
   "source": [
    "PF = PolynomialFeatures(degree=2, include_bias=False)\n",
    "X_data_pf = PF.fit_transform(X_data)"
   ]
  },
  {
   "cell_type": "code",
   "execution_count": 7,
   "id": "2118fcd5",
   "metadata": {
    "ExecuteTime": {
     "end_time": "2022-04-01T05:12:53.857116Z",
     "start_time": "2022-04-01T05:12:53.842156Z"
    }
   },
   "outputs": [],
   "source": [
    "X_train_pf, X_test_pf, Y_train_pf, Y_test_pf = train_test_split(X_data_pf, Y_data, test_size=0.2,\n",
    "                                                               random_state=42)"
   ]
  },
  {
   "cell_type": "code",
   "execution_count": 8,
   "id": "96814a10",
   "metadata": {
    "ExecuteTime": {
     "end_time": "2022-04-01T05:13:12.392966Z",
     "start_time": "2022-04-01T05:12:53.858113Z"
    }
   },
   "outputs": [
    {
     "name": "stderr",
     "output_type": "stream",
     "text": [
      "C:\\ProgramData\\Anaconda3\\lib\\site-packages\\xgboost\\sklearn.py:1224: UserWarning: The use of label encoder in XGBClassifier is deprecated and will be removed in a future release. To remove this warning, do the following: 1) Pass option use_label_encoder=False when constructing XGBClassifier object; and 2) Encode your labels (y) as integers starting with 0, i.e. 0, 1, 2, ..., [num_class - 1].\n",
      "  warnings.warn(label_encoder_deprecation_msg, UserWarning)\n"
     ]
    },
    {
     "name": "stdout",
     "output_type": "stream",
     "text": [
      "[00:12:55] WARNING: C:/Users/Administrator/workspace/xgboost-win64_release_1.5.1/src/learner.cc:1115: Starting in XGBoost 1.3.0, the default evaluation metric used with the objective 'binary:logistic' was changed from 'error' to 'logloss'. Explicitly set eval_metric if you'd like to restore the old behavior.\n"
     ]
    }
   ],
   "source": [
    "DT_pf = DecisionTreeClassifier()\n",
    "RF_pf = RandomForestClassifier()\n",
    "ET_pf = ExtraTreesClassifier()\n",
    "XGB_pf = XGBClassifier()\n",
    "AdaB_pf = AdaBoostClassifier()\n",
    "GBC_pf = GradientBoostingClassifier()\n",
    "\n",
    "DT_pf = DT_pf.fit(X_train_pf, Y_train_pf)\n",
    "RF_pf = RF_pf.fit(X_train_pf, Y_train_pf)\n",
    "ET_pf = ET_pf.fit(X_train_pf, Y_train_pf)\n",
    "XGB_pf = XGB_pf.fit(X_train_pf, Y_train_pf)\n",
    "AdaB_pf = AdaB_pf.fit(X_train_pf, Y_train_pf)\n",
    "GBC_pf = GBC_pf.fit(X_train_pf, Y_train_pf)"
   ]
  },
  {
   "cell_type": "code",
   "execution_count": 9,
   "id": "2d8bc527",
   "metadata": {
    "ExecuteTime": {
     "end_time": "2022-04-01T05:13:12.878814Z",
     "start_time": "2022-04-01T05:13:12.393963Z"
    }
   },
   "outputs": [
    {
     "data": {
      "text/html": [
       "<div>\n",
       "<style scoped>\n",
       "    .dataframe tbody tr th:only-of-type {\n",
       "        vertical-align: middle;\n",
       "    }\n",
       "\n",
       "    .dataframe tbody tr th {\n",
       "        vertical-align: top;\n",
       "    }\n",
       "\n",
       "    .dataframe thead th {\n",
       "        text-align: right;\n",
       "    }\n",
       "</style>\n",
       "<table border=\"1\" class=\"dataframe\">\n",
       "  <thead>\n",
       "    <tr style=\"text-align: right;\">\n",
       "      <th></th>\n",
       "      <th>AdaB</th>\n",
       "      <th>AdaB_PF</th>\n",
       "      <th>DecisionTree</th>\n",
       "      <th>DecisionTree_PF</th>\n",
       "      <th>ExtraTree</th>\n",
       "      <th>ExtraTree_PF</th>\n",
       "      <th>GBC</th>\n",
       "      <th>GBC_PF</th>\n",
       "      <th>RandomForest</th>\n",
       "      <th>RandomForest_PF</th>\n",
       "      <th>XGB</th>\n",
       "      <th>XGB_PF</th>\n",
       "    </tr>\n",
       "  </thead>\n",
       "  <tbody>\n",
       "    <tr>\n",
       "      <th>train_acc</th>\n",
       "      <td>0.903061</td>\n",
       "      <td>0.926020</td>\n",
       "      <td>1.000000</td>\n",
       "      <td>1.000000</td>\n",
       "      <td>1.000000</td>\n",
       "      <td>1.000000</td>\n",
       "      <td>0.960884</td>\n",
       "      <td>0.978741</td>\n",
       "      <td>1.000000</td>\n",
       "      <td>1.000000</td>\n",
       "      <td>1.000000</td>\n",
       "      <td>1.000000</td>\n",
       "    </tr>\n",
       "    <tr>\n",
       "      <th>test_acc</th>\n",
       "      <td>0.874150</td>\n",
       "      <td>0.880952</td>\n",
       "      <td>0.802721</td>\n",
       "      <td>0.778912</td>\n",
       "      <td>0.877551</td>\n",
       "      <td>0.867347</td>\n",
       "      <td>0.884354</td>\n",
       "      <td>0.880952</td>\n",
       "      <td>0.877551</td>\n",
       "      <td>0.867347</td>\n",
       "      <td>0.870748</td>\n",
       "      <td>0.891156</td>\n",
       "    </tr>\n",
       "  </tbody>\n",
       "</table>\n",
       "</div>"
      ],
      "text/plain": [
       "               AdaB   AdaB_PF  DecisionTree  DecisionTree_PF  ExtraTree  \\\n",
       "train_acc  0.903061  0.926020      1.000000         1.000000   1.000000   \n",
       "test_acc   0.874150  0.880952      0.802721         0.778912   0.877551   \n",
       "\n",
       "           ExtraTree_PF       GBC    GBC_PF  RandomForest  RandomForest_PF  \\\n",
       "train_acc      1.000000  0.960884  0.978741      1.000000         1.000000   \n",
       "test_acc       0.867347  0.884354  0.880952      0.877551         0.867347   \n",
       "\n",
       "                XGB    XGB_PF  \n",
       "train_acc  1.000000  1.000000  \n",
       "test_acc   0.870748  0.891156  "
      ]
     },
     "execution_count": 9,
     "metadata": {},
     "output_type": "execute_result"
    }
   ],
   "source": [
    "scores_df['DecisionTree_PF'] = [accuracy_score(Y_train_pf, DT_pf.predict(X_train_pf)),\n",
    "                            accuracy_score(Y_test_pf, DT_pf.predict(X_test_pf))]\n",
    "scores_df['RandomForest_PF'] = [accuracy_score(Y_train_pf, RF_pf.predict(X_train_pf)),\n",
    "                            accuracy_score(Y_test_pf, RF_pf.predict(X_test_pf))]\n",
    "scores_df['ExtraTree_PF'] = [accuracy_score(Y_train_pf, ET_pf.predict(X_train_pf)),\n",
    "                            accuracy_score(Y_test_pf, ET_pf.predict(X_test_pf))]\n",
    "scores_df['XGB_PF'] = [accuracy_score(Y_train_pf, XGB_pf.predict(X_train_pf)),\n",
    "                       accuracy_score(Y_test_pf, XGB_pf.predict(X_test_pf))]\n",
    "scores_df['AdaB_PF'] = [accuracy_score(Y_train_pf, AdaB_pf.predict(X_train_pf)),\n",
    "                       accuracy_score(Y_test_pf, AdaB_pf.predict(X_test_pf))]\n",
    "scores_df['GBC_PF'] = [accuracy_score(Y_train_pf, GBC_pf.predict(X_train_pf)),\n",
    "                       accuracy_score(Y_test_pf, GBC_pf.predict(X_test_pf))]\n",
    "scores_df = scores_df.sort_index(axis=1, ascending=True)\n",
    "scores_df"
   ]
  },
  {
   "cell_type": "markdown",
   "id": "abe67b79",
   "metadata": {},
   "source": [
    "It seems that our **XGBoost model with polynomial features data** is the best model so far.\n",
    "\n",
    "## Hyperparameter Tuning The XGBoost Model\n",
    "We can improve upon the model itself by using GridSearch, and tuning the hyperparameters of this model."
   ]
  },
  {
   "cell_type": "code",
   "execution_count": 10,
   "id": "735ea193",
   "metadata": {
    "ExecuteTime": {
     "end_time": "2022-04-01T05:31:36.347717Z",
     "start_time": "2022-04-01T05:13:12.879812Z"
    },
    "scrolled": true
   },
   "outputs": [
    {
     "name": "stdout",
     "output_type": "stream",
     "text": [
      "Fitting 5 folds for each of 54 candidates, totalling 270 fits\n",
      "[CV] END colsample_bytree=0.3, learning_rate=0.01, max_depth=3, n_estimators=100; total time=   0.4s\n",
      "[CV] END colsample_bytree=0.3, learning_rate=0.01, max_depth=3, n_estimators=100; total time=   0.4s\n",
      "[CV] END colsample_bytree=0.3, learning_rate=0.01, max_depth=3, n_estimators=100; total time=   0.4s\n",
      "[CV] END colsample_bytree=0.3, learning_rate=0.01, max_depth=3, n_estimators=100; total time=   0.4s\n",
      "[CV] END colsample_bytree=0.3, learning_rate=0.01, max_depth=3, n_estimators=100; total time=   0.4s\n",
      "[CV] END colsample_bytree=0.3, learning_rate=0.01, max_depth=3, n_estimators=500; total time=   2.2s\n",
      "[CV] END colsample_bytree=0.3, learning_rate=0.01, max_depth=3, n_estimators=500; total time=   2.1s\n",
      "[CV] END colsample_bytree=0.3, learning_rate=0.01, max_depth=3, n_estimators=500; total time=   2.1s\n",
      "[CV] END colsample_bytree=0.3, learning_rate=0.01, max_depth=3, n_estimators=500; total time=   2.1s\n",
      "[CV] END colsample_bytree=0.3, learning_rate=0.01, max_depth=3, n_estimators=500; total time=   2.1s\n",
      "[CV] END colsample_bytree=0.3, learning_rate=0.01, max_depth=3, n_estimators=1000; total time=   4.2s\n",
      "[CV] END colsample_bytree=0.3, learning_rate=0.01, max_depth=3, n_estimators=1000; total time=   4.3s\n",
      "[CV] END colsample_bytree=0.3, learning_rate=0.01, max_depth=3, n_estimators=1000; total time=   4.3s\n",
      "[CV] END colsample_bytree=0.3, learning_rate=0.01, max_depth=3, n_estimators=1000; total time=   4.3s\n",
      "[CV] END colsample_bytree=0.3, learning_rate=0.01, max_depth=3, n_estimators=1000; total time=   4.3s\n",
      "[CV] END colsample_bytree=0.3, learning_rate=0.01, max_depth=6, n_estimators=100; total time=   0.6s\n",
      "[CV] END colsample_bytree=0.3, learning_rate=0.01, max_depth=6, n_estimators=100; total time=   0.6s\n",
      "[CV] END colsample_bytree=0.3, learning_rate=0.01, max_depth=6, n_estimators=100; total time=   0.6s\n",
      "[CV] END colsample_bytree=0.3, learning_rate=0.01, max_depth=6, n_estimators=100; total time=   0.7s\n",
      "[CV] END colsample_bytree=0.3, learning_rate=0.01, max_depth=6, n_estimators=100; total time=   0.6s\n",
      "[CV] END colsample_bytree=0.3, learning_rate=0.01, max_depth=6, n_estimators=500; total time=   3.5s\n",
      "[CV] END colsample_bytree=0.3, learning_rate=0.01, max_depth=6, n_estimators=500; total time=   3.3s\n",
      "[CV] END colsample_bytree=0.3, learning_rate=0.01, max_depth=6, n_estimators=500; total time=   3.4s\n",
      "[CV] END colsample_bytree=0.3, learning_rate=0.01, max_depth=6, n_estimators=500; total time=   3.4s\n",
      "[CV] END colsample_bytree=0.3, learning_rate=0.01, max_depth=6, n_estimators=500; total time=   3.3s\n",
      "[CV] END colsample_bytree=0.3, learning_rate=0.01, max_depth=6, n_estimators=1000; total time=   6.5s\n",
      "[CV] END colsample_bytree=0.3, learning_rate=0.01, max_depth=6, n_estimators=1000; total time=   6.4s\n",
      "[CV] END colsample_bytree=0.3, learning_rate=0.01, max_depth=6, n_estimators=1000; total time=   6.5s\n",
      "[CV] END colsample_bytree=0.3, learning_rate=0.01, max_depth=6, n_estimators=1000; total time=   6.5s\n",
      "[CV] END colsample_bytree=0.3, learning_rate=0.01, max_depth=6, n_estimators=1000; total time=   6.5s\n",
      "[CV] END colsample_bytree=0.3, learning_rate=0.01, max_depth=10, n_estimators=100; total time=   0.9s\n",
      "[CV] END colsample_bytree=0.3, learning_rate=0.01, max_depth=10, n_estimators=100; total time=   1.0s\n",
      "[CV] END colsample_bytree=0.3, learning_rate=0.01, max_depth=10, n_estimators=100; total time=   0.9s\n",
      "[CV] END colsample_bytree=0.3, learning_rate=0.01, max_depth=10, n_estimators=100; total time=   1.0s\n",
      "[CV] END colsample_bytree=0.3, learning_rate=0.01, max_depth=10, n_estimators=100; total time=   1.0s\n",
      "[CV] END colsample_bytree=0.3, learning_rate=0.01, max_depth=10, n_estimators=500; total time=   4.5s\n",
      "[CV] END colsample_bytree=0.3, learning_rate=0.01, max_depth=10, n_estimators=500; total time=   4.5s\n",
      "[CV] END colsample_bytree=0.3, learning_rate=0.01, max_depth=10, n_estimators=500; total time=   4.7s\n",
      "[CV] END colsample_bytree=0.3, learning_rate=0.01, max_depth=10, n_estimators=500; total time=   4.6s\n",
      "[CV] END colsample_bytree=0.3, learning_rate=0.01, max_depth=10, n_estimators=500; total time=   4.5s\n",
      "[CV] END colsample_bytree=0.3, learning_rate=0.01, max_depth=10, n_estimators=1000; total time=   8.2s\n",
      "[CV] END colsample_bytree=0.3, learning_rate=0.01, max_depth=10, n_estimators=1000; total time=   8.3s\n",
      "[CV] END colsample_bytree=0.3, learning_rate=0.01, max_depth=10, n_estimators=1000; total time=   8.0s\n",
      "[CV] END colsample_bytree=0.3, learning_rate=0.01, max_depth=10, n_estimators=1000; total time=   8.2s\n",
      "[CV] END colsample_bytree=0.3, learning_rate=0.01, max_depth=10, n_estimators=1000; total time=   8.3s\n",
      "[CV] END colsample_bytree=0.3, learning_rate=0.05, max_depth=3, n_estimators=100; total time=   0.4s\n",
      "[CV] END colsample_bytree=0.3, learning_rate=0.05, max_depth=3, n_estimators=100; total time=   0.4s\n",
      "[CV] END colsample_bytree=0.3, learning_rate=0.05, max_depth=3, n_estimators=100; total time=   0.4s\n",
      "[CV] END colsample_bytree=0.3, learning_rate=0.05, max_depth=3, n_estimators=100; total time=   0.4s\n",
      "[CV] END colsample_bytree=0.3, learning_rate=0.05, max_depth=3, n_estimators=100; total time=   0.4s\n",
      "[CV] END colsample_bytree=0.3, learning_rate=0.05, max_depth=3, n_estimators=500; total time=   2.2s\n",
      "[CV] END colsample_bytree=0.3, learning_rate=0.05, max_depth=3, n_estimators=500; total time=   2.1s\n",
      "[CV] END colsample_bytree=0.3, learning_rate=0.05, max_depth=3, n_estimators=500; total time=   2.1s\n",
      "[CV] END colsample_bytree=0.3, learning_rate=0.05, max_depth=3, n_estimators=500; total time=   2.1s\n",
      "[CV] END colsample_bytree=0.3, learning_rate=0.05, max_depth=3, n_estimators=500; total time=   2.1s\n",
      "[CV] END colsample_bytree=0.3, learning_rate=0.05, max_depth=3, n_estimators=1000; total time=   4.1s\n",
      "[CV] END colsample_bytree=0.3, learning_rate=0.05, max_depth=3, n_estimators=1000; total time=   4.1s\n",
      "[CV] END colsample_bytree=0.3, learning_rate=0.05, max_depth=3, n_estimators=1000; total time=   4.1s\n",
      "[CV] END colsample_bytree=0.3, learning_rate=0.05, max_depth=3, n_estimators=1000; total time=   4.1s\n",
      "[CV] END colsample_bytree=0.3, learning_rate=0.05, max_depth=3, n_estimators=1000; total time=   4.2s\n",
      "[CV] END colsample_bytree=0.3, learning_rate=0.05, max_depth=6, n_estimators=100; total time=   0.6s\n",
      "[CV] END colsample_bytree=0.3, learning_rate=0.05, max_depth=6, n_estimators=100; total time=   0.6s\n",
      "[CV] END colsample_bytree=0.3, learning_rate=0.05, max_depth=6, n_estimators=100; total time=   0.6s\n",
      "[CV] END colsample_bytree=0.3, learning_rate=0.05, max_depth=6, n_estimators=100; total time=   0.6s\n",
      "[CV] END colsample_bytree=0.3, learning_rate=0.05, max_depth=6, n_estimators=100; total time=   0.6s\n",
      "[CV] END colsample_bytree=0.3, learning_rate=0.05, max_depth=6, n_estimators=500; total time=   2.9s\n",
      "[CV] END colsample_bytree=0.3, learning_rate=0.05, max_depth=6, n_estimators=500; total time=   2.9s\n",
      "[CV] END colsample_bytree=0.3, learning_rate=0.05, max_depth=6, n_estimators=500; total time=   2.9s\n",
      "[CV] END colsample_bytree=0.3, learning_rate=0.05, max_depth=6, n_estimators=500; total time=   2.9s\n",
      "[CV] END colsample_bytree=0.3, learning_rate=0.05, max_depth=6, n_estimators=500; total time=   3.0s\n",
      "[CV] END colsample_bytree=0.3, learning_rate=0.05, max_depth=6, n_estimators=1000; total time=   5.0s\n",
      "[CV] END colsample_bytree=0.3, learning_rate=0.05, max_depth=6, n_estimators=1000; total time=   5.0s\n",
      "[CV] END colsample_bytree=0.3, learning_rate=0.05, max_depth=6, n_estimators=1000; total time=   5.1s\n",
      "[CV] END colsample_bytree=0.3, learning_rate=0.05, max_depth=6, n_estimators=1000; total time=   5.2s\n",
      "[CV] END colsample_bytree=0.3, learning_rate=0.05, max_depth=6, n_estimators=1000; total time=   5.1s\n",
      "[CV] END colsample_bytree=0.3, learning_rate=0.05, max_depth=10, n_estimators=100; total time=   0.9s\n",
      "[CV] END colsample_bytree=0.3, learning_rate=0.05, max_depth=10, n_estimators=100; total time=   0.9s\n",
      "[CV] END colsample_bytree=0.3, learning_rate=0.05, max_depth=10, n_estimators=100; total time=   0.9s\n",
      "[CV] END colsample_bytree=0.3, learning_rate=0.05, max_depth=10, n_estimators=100; total time=   0.9s\n",
      "[CV] END colsample_bytree=0.3, learning_rate=0.05, max_depth=10, n_estimators=100; total time=   0.9s\n",
      "[CV] END colsample_bytree=0.3, learning_rate=0.05, max_depth=10, n_estimators=500; total time=   3.2s\n"
     ]
    },
    {
     "name": "stdout",
     "output_type": "stream",
     "text": [
      "[CV] END colsample_bytree=0.3, learning_rate=0.05, max_depth=10, n_estimators=500; total time=   3.3s\n",
      "[CV] END colsample_bytree=0.3, learning_rate=0.05, max_depth=10, n_estimators=500; total time=   3.3s\n",
      "[CV] END colsample_bytree=0.3, learning_rate=0.05, max_depth=10, n_estimators=500; total time=   3.3s\n",
      "[CV] END colsample_bytree=0.3, learning_rate=0.05, max_depth=10, n_estimators=500; total time=   3.4s\n",
      "[CV] END colsample_bytree=0.3, learning_rate=0.05, max_depth=10, n_estimators=1000; total time=   5.3s\n",
      "[CV] END colsample_bytree=0.3, learning_rate=0.05, max_depth=10, n_estimators=1000; total time=   5.3s\n",
      "[CV] END colsample_bytree=0.3, learning_rate=0.05, max_depth=10, n_estimators=1000; total time=   5.3s\n",
      "[CV] END colsample_bytree=0.3, learning_rate=0.05, max_depth=10, n_estimators=1000; total time=   5.3s\n",
      "[CV] END colsample_bytree=0.3, learning_rate=0.05, max_depth=10, n_estimators=1000; total time=   5.3s\n",
      "[CV] END colsample_bytree=0.3, learning_rate=0.1, max_depth=3, n_estimators=100; total time=   0.4s\n",
      "[CV] END colsample_bytree=0.3, learning_rate=0.1, max_depth=3, n_estimators=100; total time=   0.4s\n",
      "[CV] END colsample_bytree=0.3, learning_rate=0.1, max_depth=3, n_estimators=100; total time=   0.4s\n",
      "[CV] END colsample_bytree=0.3, learning_rate=0.1, max_depth=3, n_estimators=100; total time=   0.4s\n",
      "[CV] END colsample_bytree=0.3, learning_rate=0.1, max_depth=3, n_estimators=100; total time=   0.4s\n",
      "[CV] END colsample_bytree=0.3, learning_rate=0.1, max_depth=3, n_estimators=500; total time=   2.1s\n",
      "[CV] END colsample_bytree=0.3, learning_rate=0.1, max_depth=3, n_estimators=500; total time=   2.1s\n",
      "[CV] END colsample_bytree=0.3, learning_rate=0.1, max_depth=3, n_estimators=500; total time=   2.1s\n",
      "[CV] END colsample_bytree=0.3, learning_rate=0.1, max_depth=3, n_estimators=500; total time=   2.1s\n",
      "[CV] END colsample_bytree=0.3, learning_rate=0.1, max_depth=3, n_estimators=500; total time=   2.1s\n",
      "[CV] END colsample_bytree=0.3, learning_rate=0.1, max_depth=3, n_estimators=1000; total time=   3.9s\n",
      "[CV] END colsample_bytree=0.3, learning_rate=0.1, max_depth=3, n_estimators=1000; total time=   3.9s\n",
      "[CV] END colsample_bytree=0.3, learning_rate=0.1, max_depth=3, n_estimators=1000; total time=   3.9s\n",
      "[CV] END colsample_bytree=0.3, learning_rate=0.1, max_depth=3, n_estimators=1000; total time=   3.9s\n",
      "[CV] END colsample_bytree=0.3, learning_rate=0.1, max_depth=3, n_estimators=1000; total time=   3.9s\n",
      "[CV] END colsample_bytree=0.3, learning_rate=0.1, max_depth=6, n_estimators=100; total time=   0.6s\n",
      "[CV] END colsample_bytree=0.3, learning_rate=0.1, max_depth=6, n_estimators=100; total time=   0.6s\n",
      "[CV] END colsample_bytree=0.3, learning_rate=0.1, max_depth=6, n_estimators=100; total time=   0.6s\n",
      "[CV] END colsample_bytree=0.3, learning_rate=0.1, max_depth=6, n_estimators=100; total time=   0.6s\n",
      "[CV] END colsample_bytree=0.3, learning_rate=0.1, max_depth=6, n_estimators=100; total time=   0.6s\n",
      "[CV] END colsample_bytree=0.3, learning_rate=0.1, max_depth=6, n_estimators=500; total time=   2.5s\n",
      "[CV] END colsample_bytree=0.3, learning_rate=0.1, max_depth=6, n_estimators=500; total time=   2.5s\n",
      "[CV] END colsample_bytree=0.3, learning_rate=0.1, max_depth=6, n_estimators=500; total time=   2.5s\n",
      "[CV] END colsample_bytree=0.3, learning_rate=0.1, max_depth=6, n_estimators=500; total time=   2.5s\n",
      "[CV] END colsample_bytree=0.3, learning_rate=0.1, max_depth=6, n_estimators=500; total time=   2.5s\n",
      "[CV] END colsample_bytree=0.3, learning_rate=0.1, max_depth=6, n_estimators=1000; total time=   4.2s\n",
      "[CV] END colsample_bytree=0.3, learning_rate=0.1, max_depth=6, n_estimators=1000; total time=   4.3s\n",
      "[CV] END colsample_bytree=0.3, learning_rate=0.1, max_depth=6, n_estimators=1000; total time=   4.3s\n",
      "[CV] END colsample_bytree=0.3, learning_rate=0.1, max_depth=6, n_estimators=1000; total time=   4.3s\n",
      "[CV] END colsample_bytree=0.3, learning_rate=0.1, max_depth=6, n_estimators=1000; total time=   4.4s\n",
      "[CV] END colsample_bytree=0.3, learning_rate=0.1, max_depth=10, n_estimators=100; total time=   0.8s\n",
      "[CV] END colsample_bytree=0.3, learning_rate=0.1, max_depth=10, n_estimators=100; total time=   0.9s\n",
      "[CV] END colsample_bytree=0.3, learning_rate=0.1, max_depth=10, n_estimators=100; total time=   0.8s\n",
      "[CV] END colsample_bytree=0.3, learning_rate=0.1, max_depth=10, n_estimators=100; total time=   0.8s\n",
      "[CV] END colsample_bytree=0.3, learning_rate=0.1, max_depth=10, n_estimators=100; total time=   0.9s\n",
      "[CV] END colsample_bytree=0.3, learning_rate=0.1, max_depth=10, n_estimators=500; total time=   2.9s\n",
      "[CV] END colsample_bytree=0.3, learning_rate=0.1, max_depth=10, n_estimators=500; total time=   2.8s\n",
      "[CV] END colsample_bytree=0.3, learning_rate=0.1, max_depth=10, n_estimators=500; total time=   2.8s\n",
      "[CV] END colsample_bytree=0.3, learning_rate=0.1, max_depth=10, n_estimators=500; total time=   2.8s\n",
      "[CV] END colsample_bytree=0.3, learning_rate=0.1, max_depth=10, n_estimators=500; total time=   2.8s\n",
      "[CV] END colsample_bytree=0.3, learning_rate=0.1, max_depth=10, n_estimators=1000; total time=   4.7s\n",
      "[CV] END colsample_bytree=0.3, learning_rate=0.1, max_depth=10, n_estimators=1000; total time=   4.7s\n",
      "[CV] END colsample_bytree=0.3, learning_rate=0.1, max_depth=10, n_estimators=1000; total time=   5.1s\n",
      "[CV] END colsample_bytree=0.3, learning_rate=0.1, max_depth=10, n_estimators=1000; total time=   4.5s\n",
      "[CV] END colsample_bytree=0.3, learning_rate=0.1, max_depth=10, n_estimators=1000; total time=   4.6s\n",
      "[CV] END colsample_bytree=0.7, learning_rate=0.01, max_depth=3, n_estimators=100; total time=   0.7s\n",
      "[CV] END colsample_bytree=0.7, learning_rate=0.01, max_depth=3, n_estimators=100; total time=   0.7s\n",
      "[CV] END colsample_bytree=0.7, learning_rate=0.01, max_depth=3, n_estimators=100; total time=   0.7s\n",
      "[CV] END colsample_bytree=0.7, learning_rate=0.01, max_depth=3, n_estimators=100; total time=   0.7s\n",
      "[CV] END colsample_bytree=0.7, learning_rate=0.01, max_depth=3, n_estimators=100; total time=   0.7s\n",
      "[CV] END colsample_bytree=0.7, learning_rate=0.01, max_depth=3, n_estimators=500; total time=   3.5s\n",
      "[CV] END colsample_bytree=0.7, learning_rate=0.01, max_depth=3, n_estimators=500; total time=   3.5s\n",
      "[CV] END colsample_bytree=0.7, learning_rate=0.01, max_depth=3, n_estimators=500; total time=   3.5s\n",
      "[CV] END colsample_bytree=0.7, learning_rate=0.01, max_depth=3, n_estimators=500; total time=   3.5s\n",
      "[CV] END colsample_bytree=0.7, learning_rate=0.01, max_depth=3, n_estimators=500; total time=   3.5s\n",
      "[CV] END colsample_bytree=0.7, learning_rate=0.01, max_depth=3, n_estimators=1000; total time=   7.0s\n",
      "[CV] END colsample_bytree=0.7, learning_rate=0.01, max_depth=3, n_estimators=1000; total time=   7.0s\n",
      "[CV] END colsample_bytree=0.7, learning_rate=0.01, max_depth=3, n_estimators=1000; total time=   7.0s\n",
      "[CV] END colsample_bytree=0.7, learning_rate=0.01, max_depth=3, n_estimators=1000; total time=   7.0s\n",
      "[CV] END colsample_bytree=0.7, learning_rate=0.01, max_depth=3, n_estimators=1000; total time=   7.1s\n",
      "[CV] END colsample_bytree=0.7, learning_rate=0.01, max_depth=6, n_estimators=100; total time=   1.2s\n",
      "[CV] END colsample_bytree=0.7, learning_rate=0.01, max_depth=6, n_estimators=100; total time=   1.2s\n",
      "[CV] END colsample_bytree=0.7, learning_rate=0.01, max_depth=6, n_estimators=100; total time=   1.2s\n",
      "[CV] END colsample_bytree=0.7, learning_rate=0.01, max_depth=6, n_estimators=100; total time=   1.2s\n",
      "[CV] END colsample_bytree=0.7, learning_rate=0.01, max_depth=6, n_estimators=100; total time=   1.2s\n",
      "[CV] END colsample_bytree=0.7, learning_rate=0.01, max_depth=6, n_estimators=500; total time=   6.2s\n",
      "[CV] END colsample_bytree=0.7, learning_rate=0.01, max_depth=6, n_estimators=500; total time=   6.1s\n",
      "[CV] END colsample_bytree=0.7, learning_rate=0.01, max_depth=6, n_estimators=500; total time=   6.1s\n",
      "[CV] END colsample_bytree=0.7, learning_rate=0.01, max_depth=6, n_estimators=500; total time=   6.1s\n",
      "[CV] END colsample_bytree=0.7, learning_rate=0.01, max_depth=6, n_estimators=500; total time=   6.1s\n",
      "[CV] END colsample_bytree=0.7, learning_rate=0.01, max_depth=6, n_estimators=1000; total time=  11.8s\n",
      "[CV] END colsample_bytree=0.7, learning_rate=0.01, max_depth=6, n_estimators=1000; total time=  11.7s\n",
      "[CV] END colsample_bytree=0.7, learning_rate=0.01, max_depth=6, n_estimators=1000; total time=  11.7s\n"
     ]
    },
    {
     "name": "stdout",
     "output_type": "stream",
     "text": [
      "[CV] END colsample_bytree=0.7, learning_rate=0.01, max_depth=6, n_estimators=1000; total time=  11.7s\n",
      "[CV] END colsample_bytree=0.7, learning_rate=0.01, max_depth=6, n_estimators=1000; total time=  11.7s\n",
      "[CV] END colsample_bytree=0.7, learning_rate=0.01, max_depth=10, n_estimators=100; total time=   1.9s\n",
      "[CV] END colsample_bytree=0.7, learning_rate=0.01, max_depth=10, n_estimators=100; total time=   1.8s\n",
      "[CV] END colsample_bytree=0.7, learning_rate=0.01, max_depth=10, n_estimators=100; total time=   1.9s\n",
      "[CV] END colsample_bytree=0.7, learning_rate=0.01, max_depth=10, n_estimators=100; total time=   1.9s\n",
      "[CV] END colsample_bytree=0.7, learning_rate=0.01, max_depth=10, n_estimators=100; total time=   2.1s\n",
      "[CV] END colsample_bytree=0.7, learning_rate=0.01, max_depth=10, n_estimators=500; total time=   9.5s\n",
      "[CV] END colsample_bytree=0.7, learning_rate=0.01, max_depth=10, n_estimators=500; total time=   9.5s\n",
      "[CV] END colsample_bytree=0.7, learning_rate=0.01, max_depth=10, n_estimators=500; total time=   8.9s\n",
      "[CV] END colsample_bytree=0.7, learning_rate=0.01, max_depth=10, n_estimators=500; total time=   8.7s\n",
      "[CV] END colsample_bytree=0.7, learning_rate=0.01, max_depth=10, n_estimators=500; total time=   8.7s\n",
      "[CV] END colsample_bytree=0.7, learning_rate=0.01, max_depth=10, n_estimators=1000; total time=  15.1s\n",
      "[CV] END colsample_bytree=0.7, learning_rate=0.01, max_depth=10, n_estimators=1000; total time=  15.4s\n",
      "[CV] END colsample_bytree=0.7, learning_rate=0.01, max_depth=10, n_estimators=1000; total time=  15.2s\n",
      "[CV] END colsample_bytree=0.7, learning_rate=0.01, max_depth=10, n_estimators=1000; total time=  15.2s\n",
      "[CV] END colsample_bytree=0.7, learning_rate=0.01, max_depth=10, n_estimators=1000; total time=  15.5s\n",
      "[CV] END colsample_bytree=0.7, learning_rate=0.05, max_depth=3, n_estimators=100; total time=   0.7s\n",
      "[CV] END colsample_bytree=0.7, learning_rate=0.05, max_depth=3, n_estimators=100; total time=   0.7s\n",
      "[CV] END colsample_bytree=0.7, learning_rate=0.05, max_depth=3, n_estimators=100; total time=   0.7s\n",
      "[CV] END colsample_bytree=0.7, learning_rate=0.05, max_depth=3, n_estimators=100; total time=   0.7s\n",
      "[CV] END colsample_bytree=0.7, learning_rate=0.05, max_depth=3, n_estimators=100; total time=   0.7s\n",
      "[CV] END colsample_bytree=0.7, learning_rate=0.05, max_depth=3, n_estimators=500; total time=   3.5s\n",
      "[CV] END colsample_bytree=0.7, learning_rate=0.05, max_depth=3, n_estimators=500; total time=   3.5s\n",
      "[CV] END colsample_bytree=0.7, learning_rate=0.05, max_depth=3, n_estimators=500; total time=   3.5s\n",
      "[CV] END colsample_bytree=0.7, learning_rate=0.05, max_depth=3, n_estimators=500; total time=   3.5s\n",
      "[CV] END colsample_bytree=0.7, learning_rate=0.05, max_depth=3, n_estimators=500; total time=   3.5s\n",
      "[CV] END colsample_bytree=0.7, learning_rate=0.05, max_depth=3, n_estimators=1000; total time=   6.7s\n",
      "[CV] END colsample_bytree=0.7, learning_rate=0.05, max_depth=3, n_estimators=1000; total time=   6.7s\n",
      "[CV] END colsample_bytree=0.7, learning_rate=0.05, max_depth=3, n_estimators=1000; total time=   6.7s\n",
      "[CV] END colsample_bytree=0.7, learning_rate=0.05, max_depth=3, n_estimators=1000; total time=   6.7s\n",
      "[CV] END colsample_bytree=0.7, learning_rate=0.05, max_depth=3, n_estimators=1000; total time=   6.8s\n",
      "[CV] END colsample_bytree=0.7, learning_rate=0.05, max_depth=6, n_estimators=100; total time=   1.2s\n",
      "[CV] END colsample_bytree=0.7, learning_rate=0.05, max_depth=6, n_estimators=100; total time=   1.2s\n",
      "[CV] END colsample_bytree=0.7, learning_rate=0.05, max_depth=6, n_estimators=100; total time=   1.2s\n",
      "[CV] END colsample_bytree=0.7, learning_rate=0.05, max_depth=6, n_estimators=100; total time=   1.2s\n",
      "[CV] END colsample_bytree=0.7, learning_rate=0.05, max_depth=6, n_estimators=100; total time=   1.2s\n",
      "[CV] END colsample_bytree=0.7, learning_rate=0.05, max_depth=6, n_estimators=500; total time=   5.2s\n",
      "[CV] END colsample_bytree=0.7, learning_rate=0.05, max_depth=6, n_estimators=500; total time=   5.2s\n",
      "[CV] END colsample_bytree=0.7, learning_rate=0.05, max_depth=6, n_estimators=500; total time=   5.1s\n",
      "[CV] END colsample_bytree=0.7, learning_rate=0.05, max_depth=6, n_estimators=500; total time=   5.1s\n",
      "[CV] END colsample_bytree=0.7, learning_rate=0.05, max_depth=6, n_estimators=500; total time=   5.1s\n",
      "[CV] END colsample_bytree=0.7, learning_rate=0.05, max_depth=6, n_estimators=1000; total time=   8.4s\n",
      "[CV] END colsample_bytree=0.7, learning_rate=0.05, max_depth=6, n_estimators=1000; total time=   8.4s\n",
      "[CV] END colsample_bytree=0.7, learning_rate=0.05, max_depth=6, n_estimators=1000; total time=   8.5s\n",
      "[CV] END colsample_bytree=0.7, learning_rate=0.05, max_depth=6, n_estimators=1000; total time=   8.7s\n",
      "[CV] END colsample_bytree=0.7, learning_rate=0.05, max_depth=6, n_estimators=1000; total time=   8.5s\n",
      "[CV] END colsample_bytree=0.7, learning_rate=0.05, max_depth=10, n_estimators=100; total time=   1.7s\n",
      "[CV] END colsample_bytree=0.7, learning_rate=0.05, max_depth=10, n_estimators=100; total time=   1.8s\n",
      "[CV] END colsample_bytree=0.7, learning_rate=0.05, max_depth=10, n_estimators=100; total time=   1.7s\n",
      "[CV] END colsample_bytree=0.7, learning_rate=0.05, max_depth=10, n_estimators=100; total time=   1.7s\n",
      "[CV] END colsample_bytree=0.7, learning_rate=0.05, max_depth=10, n_estimators=100; total time=   1.8s\n",
      "[CV] END colsample_bytree=0.7, learning_rate=0.05, max_depth=10, n_estimators=500; total time=   5.7s\n",
      "[CV] END colsample_bytree=0.7, learning_rate=0.05, max_depth=10, n_estimators=500; total time=   5.7s\n",
      "[CV] END colsample_bytree=0.7, learning_rate=0.05, max_depth=10, n_estimators=500; total time=   5.8s\n",
      "[CV] END colsample_bytree=0.7, learning_rate=0.05, max_depth=10, n_estimators=500; total time=   5.8s\n",
      "[CV] END colsample_bytree=0.7, learning_rate=0.05, max_depth=10, n_estimators=500; total time=   5.8s\n",
      "[CV] END colsample_bytree=0.7, learning_rate=0.05, max_depth=10, n_estimators=1000; total time=   8.9s\n",
      "[CV] END colsample_bytree=0.7, learning_rate=0.05, max_depth=10, n_estimators=1000; total time=   9.0s\n",
      "[CV] END colsample_bytree=0.7, learning_rate=0.05, max_depth=10, n_estimators=1000; total time=   9.1s\n",
      "[CV] END colsample_bytree=0.7, learning_rate=0.05, max_depth=10, n_estimators=1000; total time=   9.1s\n",
      "[CV] END colsample_bytree=0.7, learning_rate=0.05, max_depth=10, n_estimators=1000; total time=   9.1s\n",
      "[CV] END colsample_bytree=0.7, learning_rate=0.1, max_depth=3, n_estimators=100; total time=   0.7s\n",
      "[CV] END colsample_bytree=0.7, learning_rate=0.1, max_depth=3, n_estimators=100; total time=   0.7s\n",
      "[CV] END colsample_bytree=0.7, learning_rate=0.1, max_depth=3, n_estimators=100; total time=   0.7s\n",
      "[CV] END colsample_bytree=0.7, learning_rate=0.1, max_depth=3, n_estimators=100; total time=   0.7s\n",
      "[CV] END colsample_bytree=0.7, learning_rate=0.1, max_depth=3, n_estimators=100; total time=   0.7s\n",
      "[CV] END colsample_bytree=0.7, learning_rate=0.1, max_depth=3, n_estimators=500; total time=   3.4s\n",
      "[CV] END colsample_bytree=0.7, learning_rate=0.1, max_depth=3, n_estimators=500; total time=   3.4s\n",
      "[CV] END colsample_bytree=0.7, learning_rate=0.1, max_depth=3, n_estimators=500; total time=   3.4s\n",
      "[CV] END colsample_bytree=0.7, learning_rate=0.1, max_depth=3, n_estimators=500; total time=   3.4s\n",
      "[CV] END colsample_bytree=0.7, learning_rate=0.1, max_depth=3, n_estimators=500; total time=   3.4s\n",
      "[CV] END colsample_bytree=0.7, learning_rate=0.1, max_depth=3, n_estimators=1000; total time=   6.2s\n",
      "[CV] END colsample_bytree=0.7, learning_rate=0.1, max_depth=3, n_estimators=1000; total time=   6.2s\n",
      "[CV] END colsample_bytree=0.7, learning_rate=0.1, max_depth=3, n_estimators=1000; total time=   6.4s\n",
      "[CV] END colsample_bytree=0.7, learning_rate=0.1, max_depth=3, n_estimators=1000; total time=   6.3s\n",
      "[CV] END colsample_bytree=0.7, learning_rate=0.1, max_depth=3, n_estimators=1000; total time=   6.3s\n",
      "[CV] END colsample_bytree=0.7, learning_rate=0.1, max_depth=6, n_estimators=100; total time=   1.1s\n",
      "[CV] END colsample_bytree=0.7, learning_rate=0.1, max_depth=6, n_estimators=100; total time=   1.2s\n",
      "[CV] END colsample_bytree=0.7, learning_rate=0.1, max_depth=6, n_estimators=100; total time=   1.1s\n",
      "[CV] END colsample_bytree=0.7, learning_rate=0.1, max_depth=6, n_estimators=100; total time=   1.1s\n"
     ]
    },
    {
     "name": "stdout",
     "output_type": "stream",
     "text": [
      "[CV] END colsample_bytree=0.7, learning_rate=0.1, max_depth=6, n_estimators=100; total time=   1.1s\n",
      "[CV] END colsample_bytree=0.7, learning_rate=0.1, max_depth=6, n_estimators=500; total time=   4.3s\n",
      "[CV] END colsample_bytree=0.7, learning_rate=0.1, max_depth=6, n_estimators=500; total time=   4.2s\n",
      "[CV] END colsample_bytree=0.7, learning_rate=0.1, max_depth=6, n_estimators=500; total time=   4.2s\n",
      "[CV] END colsample_bytree=0.7, learning_rate=0.1, max_depth=6, n_estimators=500; total time=   4.2s\n",
      "[CV] END colsample_bytree=0.7, learning_rate=0.1, max_depth=6, n_estimators=500; total time=   4.3s\n",
      "[CV] END colsample_bytree=0.7, learning_rate=0.1, max_depth=6, n_estimators=1000; total time=   7.0s\n",
      "[CV] END colsample_bytree=0.7, learning_rate=0.1, max_depth=6, n_estimators=1000; total time=   6.9s\n",
      "[CV] END colsample_bytree=0.7, learning_rate=0.1, max_depth=6, n_estimators=1000; total time=   7.0s\n",
      "[CV] END colsample_bytree=0.7, learning_rate=0.1, max_depth=6, n_estimators=1000; total time=   6.9s\n",
      "[CV] END colsample_bytree=0.7, learning_rate=0.1, max_depth=6, n_estimators=1000; total time=   6.9s\n",
      "[CV] END colsample_bytree=0.7, learning_rate=0.1, max_depth=10, n_estimators=100; total time=   1.5s\n",
      "[CV] END colsample_bytree=0.7, learning_rate=0.1, max_depth=10, n_estimators=100; total time=   1.5s\n",
      "[CV] END colsample_bytree=0.7, learning_rate=0.1, max_depth=10, n_estimators=100; total time=   1.5s\n",
      "[CV] END colsample_bytree=0.7, learning_rate=0.1, max_depth=10, n_estimators=100; total time=   1.5s\n",
      "[CV] END colsample_bytree=0.7, learning_rate=0.1, max_depth=10, n_estimators=100; total time=   1.5s\n",
      "[CV] END colsample_bytree=0.7, learning_rate=0.1, max_depth=10, n_estimators=500; total time=   4.5s\n",
      "[CV] END colsample_bytree=0.7, learning_rate=0.1, max_depth=10, n_estimators=500; total time=   4.5s\n",
      "[CV] END colsample_bytree=0.7, learning_rate=0.1, max_depth=10, n_estimators=500; total time=   4.5s\n",
      "[CV] END colsample_bytree=0.7, learning_rate=0.1, max_depth=10, n_estimators=500; total time=   4.5s\n",
      "[CV] END colsample_bytree=0.7, learning_rate=0.1, max_depth=10, n_estimators=500; total time=   4.5s\n",
      "[CV] END colsample_bytree=0.7, learning_rate=0.1, max_depth=10, n_estimators=1000; total time=   7.2s\n",
      "[CV] END colsample_bytree=0.7, learning_rate=0.1, max_depth=10, n_estimators=1000; total time=   7.2s\n",
      "[CV] END colsample_bytree=0.7, learning_rate=0.1, max_depth=10, n_estimators=1000; total time=   7.1s\n",
      "[CV] END colsample_bytree=0.7, learning_rate=0.1, max_depth=10, n_estimators=1000; total time=   7.2s\n",
      "[CV] END colsample_bytree=0.7, learning_rate=0.1, max_depth=10, n_estimators=1000; total time=   7.2s\n"
     ]
    },
    {
     "data": {
      "text/plain": [
       "GridSearchCV(estimator=XGBClassifier(base_score=None, booster=None,\n",
       "                                     colsample_bylevel=None,\n",
       "                                     colsample_bynode=None,\n",
       "                                     colsample_bytree=None,\n",
       "                                     enable_categorical=False,\n",
       "                                     eval_metric='logloss', gamma=None,\n",
       "                                     gpu_id=None, importance_type=None,\n",
       "                                     interaction_constraints=None,\n",
       "                                     learning_rate=None, max_delta_step=None,\n",
       "                                     max_depth=None, min_child_weight=None,\n",
       "                                     missing=nan, monotone_...\n",
       "                                     num_parallel_tree=None, predictor=None,\n",
       "                                     random_state=None, reg_alpha=None,\n",
       "                                     reg_lambda=None, scale_pos_weight=None,\n",
       "                                     subsample=None, tree_method=None,\n",
       "                                     use_label_encoder=False,\n",
       "                                     validate_parameters=None, verbosity=None),\n",
       "             param_grid={'colsample_bytree': [0.3, 0.7],\n",
       "                         'learning_rate': [0.01, 0.05, 0.1],\n",
       "                         'max_depth': [3, 6, 10],\n",
       "                         'n_estimators': [100, 500, 1000]},\n",
       "             scoring='accuracy', verbose=2)"
      ]
     },
     "execution_count": 10,
     "metadata": {},
     "output_type": "execute_result"
    }
   ],
   "source": [
    "params = {'max_depth': [3,6,10],\n",
    "          'learning_rate': [0.01, 0.05, 0.1],\n",
    "          'n_estimators': [100, 500, 1000],\n",
    "          'colsample_bytree': [0.3, 0.7]}\n",
    "\n",
    "# creating a clean XGB model to do our GridSearch on.\n",
    "# I have also specified a few parameters to avoid warning messages.\n",
    "XGB_search = XGBClassifier(use_label_encoder=False, eval_metric='logloss')\n",
    "clf = GridSearchCV(estimator=XGB_search, \n",
    "                   param_grid=params,\n",
    "                   scoring='accuracy',\n",
    "                   verbose=2)\n",
    "clf.fit(X_data_pf, Y_data)"
   ]
  },
  {
   "cell_type": "code",
   "execution_count": 11,
   "id": "f14cbd42",
   "metadata": {
    "ExecuteTime": {
     "end_time": "2022-04-01T05:31:36.363674Z",
     "start_time": "2022-04-01T05:31:36.348714Z"
    }
   },
   "outputs": [
    {
     "name": "stdout",
     "output_type": "stream",
     "text": [
      "Best params for XGB {'colsample_bytree': 0.7, 'learning_rate': 0.05, 'max_depth': 10, 'n_estimators': 1000}\n"
     ]
    }
   ],
   "source": [
    "print(\"Best params for XGB\", clf.best_params_)"
   ]
  },
  {
   "cell_type": "markdown",
   "id": "63831781",
   "metadata": {},
   "source": [
    "## Testing Accuracy Of The Best Tuned XGBoost Model\n",
    "We can now make an XGBoost model with the best GridSearch parameters."
   ]
  },
  {
   "cell_type": "code",
   "execution_count": 12,
   "id": "95046c4c",
   "metadata": {
    "ExecuteTime": {
     "end_time": "2022-04-01T05:34:47.485620Z",
     "start_time": "2022-04-01T05:34:38.191288Z"
    }
   },
   "outputs": [
    {
     "name": "stderr",
     "output_type": "stream",
     "text": [
      "C:\\ProgramData\\Anaconda3\\lib\\site-packages\\xgboost\\sklearn.py:1224: UserWarning: The use of label encoder in XGBClassifier is deprecated and will be removed in a future release. To remove this warning, do the following: 1) Pass option use_label_encoder=False when constructing XGBClassifier object; and 2) Encode your labels (y) as integers starting with 0, i.e. 0, 1, 2, ..., [num_class - 1].\n",
      "  warnings.warn(label_encoder_deprecation_msg, UserWarning)\n"
     ]
    },
    {
     "name": "stdout",
     "output_type": "stream",
     "text": [
      "[00:34:38] WARNING: C:/Users/Administrator/workspace/xgboost-win64_release_1.5.1/src/learner.cc:1115: Starting in XGBoost 1.3.0, the default evaluation metric used with the objective 'binary:logistic' was changed from 'error' to 'logloss'. Explicitly set eval_metric if you'd like to restore the old behavior.\n"
     ]
    }
   ],
   "source": [
    "best_XGB = XGBClassifier(colsample_bytree=0.7,\n",
    "                        learning_rate=0.05,\n",
    "                        max_depth=10,\n",
    "                        n_estimators=1000)\n",
    "best_XGB = best_XGB.fit(X_train_pf, Y_train_pf)"
   ]
  },
  {
   "cell_type": "code",
   "execution_count": 13,
   "id": "c90704c3",
   "metadata": {
    "ExecuteTime": {
     "end_time": "2022-04-01T05:35:25.235553Z",
     "start_time": "2022-04-01T05:35:25.182693Z"
    }
   },
   "outputs": [
    {
     "data": {
      "text/html": [
       "<div>\n",
       "<style scoped>\n",
       "    .dataframe tbody tr th:only-of-type {\n",
       "        vertical-align: middle;\n",
       "    }\n",
       "\n",
       "    .dataframe tbody tr th {\n",
       "        vertical-align: top;\n",
       "    }\n",
       "\n",
       "    .dataframe thead th {\n",
       "        text-align: right;\n",
       "    }\n",
       "</style>\n",
       "<table border=\"1\" class=\"dataframe\">\n",
       "  <thead>\n",
       "    <tr style=\"text-align: right;\">\n",
       "      <th></th>\n",
       "      <th>AdaB</th>\n",
       "      <th>AdaB_PF</th>\n",
       "      <th>BEST_XGB_PF</th>\n",
       "      <th>DecisionTree</th>\n",
       "      <th>DecisionTree_PF</th>\n",
       "      <th>ExtraTree</th>\n",
       "      <th>ExtraTree_PF</th>\n",
       "      <th>GBC</th>\n",
       "      <th>GBC_PF</th>\n",
       "      <th>RandomForest</th>\n",
       "      <th>RandomForest_PF</th>\n",
       "      <th>XGB</th>\n",
       "      <th>XGB_PF</th>\n",
       "    </tr>\n",
       "  </thead>\n",
       "  <tbody>\n",
       "    <tr>\n",
       "      <th>train_acc</th>\n",
       "      <td>0.903061</td>\n",
       "      <td>0.926020</td>\n",
       "      <td>1.000000</td>\n",
       "      <td>1.000000</td>\n",
       "      <td>1.000000</td>\n",
       "      <td>1.000000</td>\n",
       "      <td>1.000000</td>\n",
       "      <td>0.960884</td>\n",
       "      <td>0.978741</td>\n",
       "      <td>1.000000</td>\n",
       "      <td>1.000000</td>\n",
       "      <td>1.000000</td>\n",
       "      <td>1.000000</td>\n",
       "    </tr>\n",
       "    <tr>\n",
       "      <th>test_acc</th>\n",
       "      <td>0.874150</td>\n",
       "      <td>0.880952</td>\n",
       "      <td>0.897959</td>\n",
       "      <td>0.802721</td>\n",
       "      <td>0.778912</td>\n",
       "      <td>0.877551</td>\n",
       "      <td>0.867347</td>\n",
       "      <td>0.884354</td>\n",
       "      <td>0.880952</td>\n",
       "      <td>0.877551</td>\n",
       "      <td>0.867347</td>\n",
       "      <td>0.870748</td>\n",
       "      <td>0.891156</td>\n",
       "    </tr>\n",
       "  </tbody>\n",
       "</table>\n",
       "</div>"
      ],
      "text/plain": [
       "               AdaB   AdaB_PF  BEST_XGB_PF  DecisionTree  DecisionTree_PF  \\\n",
       "train_acc  0.903061  0.926020     1.000000      1.000000         1.000000   \n",
       "test_acc   0.874150  0.880952     0.897959      0.802721         0.778912   \n",
       "\n",
       "           ExtraTree  ExtraTree_PF       GBC    GBC_PF  RandomForest  \\\n",
       "train_acc   1.000000      1.000000  0.960884  0.978741      1.000000   \n",
       "test_acc    0.877551      0.867347  0.884354  0.880952      0.877551   \n",
       "\n",
       "           RandomForest_PF       XGB    XGB_PF  \n",
       "train_acc         1.000000  1.000000  1.000000  \n",
       "test_acc          0.867347  0.870748  0.891156  "
      ]
     },
     "execution_count": 13,
     "metadata": {},
     "output_type": "execute_result"
    }
   ],
   "source": [
    "scores_df['BEST_XGB_PF'] = [accuracy_score(Y_train_pf, best_XGB.predict(X_train_pf)),\n",
    "                           accuracy_score(Y_test_pf, best_XGB.predict(X_test_pf))]\n",
    "scores_df = scores_df.sort_index(axis=1, ascending=True)\n",
    "scores_df"
   ]
  },
  {
   "cell_type": "markdown",
   "id": "956ab0e4",
   "metadata": {},
   "source": []
  },
  {
   "cell_type": "markdown",
   "id": "0ecc8abf",
   "metadata": {},
   "source": [
    "Success! *We have increased the accuracy of our XGBoost model from 0.891156 to 0.897959!*"
   ]
  },
  {
   "cell_type": "markdown",
   "id": "245571ff",
   "metadata": {},
   "source": [
    "## Saving The Model For Future Use"
   ]
  },
  {
   "cell_type": "code",
   "execution_count": 15,
   "id": "c4797276",
   "metadata": {
    "ExecuteTime": {
     "end_time": "2022-04-01T05:48:37.891759Z",
     "start_time": "2022-04-01T05:48:37.822929Z"
    }
   },
   "outputs": [],
   "source": [
    "best_XGB.save_model(\"models/best_XGB.json\")"
   ]
  },
  {
   "cell_type": "markdown",
   "id": "ddac500f",
   "metadata": {},
   "source": [
    "## Next Steps"
   ]
  },
  {
   "cell_type": "markdown",
   "id": "61b563a5",
   "metadata": {},
   "source": [
    "**This project has a webapp associated with it, which can be accessed [here](https://share.streamlit.io/hannankhan888/employee_attrition_webapp/main).**\n",
    "\n",
    "Below is an observation of data that will produce a \"not churn\" output with the model."
   ]
  },
  {
   "cell_type": "code",
   "execution_count": 65,
   "id": "956fabbd",
   "metadata": {
    "ExecuteTime": {
     "end_time": "2022-04-01T09:47:10.142850Z",
     "start_time": "2022-04-01T09:47:10.116920Z"
    },
    "scrolled": true
   },
   "outputs": [
    {
     "name": "stdout",
     "output_type": "stream",
     "text": [
      "Age                            49.000000\n",
      "Attrition                       0.000000\n",
      "DailyRate                     279.000000\n",
      "Dep_HR                          0.000000\n",
      "Dep_R&D                         1.000000\n",
      "Dep_Sales                       0.000000\n",
      "DistanceFromHome                8.000000\n",
      "Divorced                        0.000000\n",
      "Edu_HR                          0.000000\n",
      "Edu_Life_Sci                    1.000000\n",
      "Edu_Marketing                   0.000000\n",
      "Edu_Medical                     0.000000\n",
      "Edu_Other                       0.000000\n",
      "Edu_Technical_Deg               0.000000\n",
      "Education                       1.000000\n",
      "EmployeeCount                   1.000000\n",
      "EmployeeNumber                  2.000000\n",
      "EnvironmentSatisfaction         3.000000\n",
      "Gender                          0.000000\n",
      "HourlyRate                     61.000000\n",
      "JobInvolvement                  2.000000\n",
      "JobLevel                        2.000000\n",
      "JobSatisfaction                 2.000000\n",
      "Job_HR                          0.000000\n",
      "Job_Healthcare_Rep              0.000000\n",
      "Job_Lab_Tech                    0.000000\n",
      "Job_Manager                     0.000000\n",
      "Job_Manuf_Dir                   0.000000\n",
      "Job_Research_Dir                0.000000\n",
      "Job_Research_Sci                1.000000\n",
      "Job_Sales_Exec                  0.000000\n",
      "Job_Sales_Rep                   0.000000\n",
      "LogDistanceFromHome             0.903090\n",
      "LogJobLevel                     0.301030\n",
      "LogMonthlyIncome                3.710117\n",
      "LogNumCompaniesWorked           0.000000\n",
      "LogPercentSalaryHike            1.361728\n",
      "LogTotalWorkingYears            1.000000\n",
      "LogYearsAtCompany               1.000000\n",
      "Married                         1.000000\n",
      "MonthlyIncome                5130.000000\n",
      "MonthlyRate                 24907.000000\n",
      "Non-Travel                      0.000000\n",
      "NumCompaniesWorked              1.000000\n",
      "NumYearsAtEachCompany          10.000000\n",
      "Over18                          1.000000\n",
      "OverTime                        0.000000\n",
      "OverallSatisfaction             9.000000\n",
      "PercentSalaryHike              23.000000\n",
      "PerformanceRating               4.000000\n",
      "RelationshipSatisfaction        4.000000\n",
      "Single                          0.000000\n",
      "StandardHours                  80.000000\n",
      "StockOptionLevel                1.000000\n",
      "TotalWorkingYears              10.000000\n",
      "TrainingTimesLastYear           3.000000\n",
      "Travel_Frequently               1.000000\n",
      "Travel_Rarely                   0.000000\n",
      "WorkLifeBalance                 3.000000\n",
      "YearsAtCompany                 10.000000\n",
      "YearsAtOtherCompanies           0.000000\n",
      "YearsInCurrentRole              7.000000\n",
      "YearsSinceLastPromotion         1.000000\n",
      "YearsWithCurrManager            7.000000\n"
     ]
    }
   ],
   "source": [
    "print(df.loc[1].to_string())"
   ]
  }
 ],
 "metadata": {
  "kernelspec": {
   "display_name": "Python 3 (ipykernel)",
   "language": "python",
   "name": "python3"
  },
  "language_info": {
   "codemirror_mode": {
    "name": "ipython",
    "version": 3
   },
   "file_extension": ".py",
   "mimetype": "text/x-python",
   "name": "python",
   "nbconvert_exporter": "python",
   "pygments_lexer": "ipython3",
   "version": "3.9.7"
  },
  "notify_time": "5",
  "toc": {
   "base_numbering": 1,
   "nav_menu": {},
   "number_sections": true,
   "sideBar": true,
   "skip_h1_title": false,
   "title_cell": "Table of Contents",
   "title_sidebar": "Contents",
   "toc_cell": false,
   "toc_position": {},
   "toc_section_display": true,
   "toc_window_display": false
  }
 },
 "nbformat": 4,
 "nbformat_minor": 5
}
